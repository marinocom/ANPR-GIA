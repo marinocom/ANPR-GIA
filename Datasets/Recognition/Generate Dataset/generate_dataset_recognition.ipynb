{
 "cells": [
  {
   "cell_type": "markdown",
   "metadata": {},
   "source": [
    "## **Generate Synthetic License Plate Image Dataset for Recognition**"
   ]
  },
  {
   "cell_type": "code",
   "execution_count": 17,
   "metadata": {},
   "outputs": [],
   "source": [
    "# Paths\n",
    "img_dir_train = \"Datasets/GeneratedImages/GeneratedTrain\"\n",
    "img_dir_test = \"Datasets/GeneratedImages/GeneratedTest\"\n",
    "font_folder_path = '/Users/marino/Documents/UAB/Tercero/Vision & Learning/ANPR/Datasets/GeneratedImages/alte-din-1451-mittelschrift'"
   ]
  },
  {
   "cell_type": "markdown",
   "metadata": {},
   "source": [
    "### Libraries"
   ]
  },
  {
   "cell_type": "code",
   "execution_count": 18,
   "metadata": {},
   "outputs": [
    {
     "name": "stdout",
     "output_type": "stream",
     "text": [
      "Requirement already satisfied: random_word in /Users/marino/miniconda3/envs/collegeEnv/lib/python3.10/site-packages (1.0.11)\n",
      "Requirement already satisfied: requests in /Users/marino/miniconda3/envs/collegeEnv/lib/python3.10/site-packages (from random_word) (2.31.0)\n",
      "Requirement already satisfied: pytest in /Users/marino/miniconda3/envs/collegeEnv/lib/python3.10/site-packages (from random_word) (8.3.3)\n",
      "Requirement already satisfied: pyyaml in /Users/marino/miniconda3/envs/collegeEnv/lib/python3.10/site-packages (from random_word) (6.0.1)\n",
      "Requirement already satisfied: iniconfig in /Users/marino/miniconda3/envs/collegeEnv/lib/python3.10/site-packages (from pytest->random_word) (2.0.0)\n",
      "Requirement already satisfied: packaging in /Users/marino/miniconda3/envs/collegeEnv/lib/python3.10/site-packages (from pytest->random_word) (23.2)\n",
      "Requirement already satisfied: pluggy<2,>=1.5 in /Users/marino/miniconda3/envs/collegeEnv/lib/python3.10/site-packages (from pytest->random_word) (1.5.0)\n",
      "Requirement already satisfied: exceptiongroup>=1.0.0rc8 in /Users/marino/miniconda3/envs/collegeEnv/lib/python3.10/site-packages (from pytest->random_word) (1.2.0)\n",
      "Requirement already satisfied: tomli>=1 in /Users/marino/miniconda3/envs/collegeEnv/lib/python3.10/site-packages (from pytest->random_word) (2.0.1)\n",
      "Requirement already satisfied: charset-normalizer<4,>=2 in /Users/marino/miniconda3/envs/collegeEnv/lib/python3.10/site-packages (from requests->random_word) (3.3.2)\n",
      "Requirement already satisfied: idna<4,>=2.5 in /Users/marino/miniconda3/envs/collegeEnv/lib/python3.10/site-packages (from requests->random_word) (3.6)\n",
      "Requirement already satisfied: urllib3<3,>=1.21.1 in /Users/marino/miniconda3/envs/collegeEnv/lib/python3.10/site-packages (from requests->random_word) (2.1.0)\n",
      "Requirement already satisfied: certifi>=2017.4.17 in /Users/marino/miniconda3/envs/collegeEnv/lib/python3.10/site-packages (from requests->random_word) (2024.2.2)\n"
     ]
    }
   ],
   "source": [
    "# Libraries\n",
    "!pip install random_word\n",
    "import cv2 \n",
    "import matplotlib.pyplot as plt\n",
    "from PIL import Image, ImageDraw, ImageFont\n",
    "import random\n",
    "import os\n",
    "from random_word import RandomWords\n",
    "import string"
   ]
  },
  {
   "cell_type": "code",
   "execution_count": 19,
   "metadata": {},
   "outputs": [],
   "source": [
    "# List of available fonts\n",
    "fonts = [\"din1451alt G.ttf\", \"din1451alt.ttf\"]\n",
    "\n",
    "# Function to generate images with random Spanish license plate-like strings\n",
    "def generate_images(n, images_dir):\n",
    "    for i in range(n):\n",
    "        xy = [0, 0]  # Initial coordinates for text placement\n",
    "\n",
    "        # Generate a random Spanish license plate string (4 digits + 3 uppercase letters)\n",
    "        plate_numbers = ''.join(random.choices(string.digits, k=4))\n",
    "        plate_letters = ''.join(random.choices(string.ascii_uppercase, k=3))\n",
    "        new_str = plate_numbers + \" \" + plate_letters  # Example: \"1234 ABC\"\n",
    "\n",
    "        # Choose a random font from the list\n",
    "        font = random.choice(fonts)\n",
    "        font = ImageFont.truetype(font_folder_path + '/' + font, random.randint(25, 40), encoding=\"unic\")\n",
    "\n",
    "        # Get the bounding box of the text to determine the size of the image\n",
    "        _, _, w, h = font.getbbox(new_str)\n",
    "        offset = (random.randint(10, 20), random.randint(40, 60))  # Random offset for text placement\n",
    "        size = (w + offset[0], h + offset[1])\n",
    "        img = Image.new(\"L\", size=size, color=\"white\")  # Create a new image with a white background\n",
    "\n",
    "        # Create a drawing context\n",
    "        draw = ImageDraw.Draw(img)\n",
    "        xy = (offset[0] / 2, offset[1] / 2)  # Position the text in the image\n",
    "        draw.text(xy, new_str, font=font, fill=\"black\")  # Draw the text on the image\n",
    "\n",
    "        # Save the image with the format \"index_licenseplate.jpg\"\n",
    "        img.save(os.path.join(images_dir, f\"{i}_{new_str}.jpg\"))\n",
    "\n",
    "# Directories for saving images\n",
    "img_dir_train = \"/Users/marino/Documents/UAB/Tercero/Vision & Learning/ANPR/Datasets/GeneratedImages/GeneratedTrain\"\n",
    "img_dir_test = '/Users/marino/Documents/UAB/Tercero/Vision & Learning/ANPR/Datasets/GeneratedImages/GeneratedTest'\n",
    "\n",
    "# Generate 50,000 training images and 5,000 test images with random Spanish license plates\n",
    "generate_images(10, img_dir_train)\n",
    "generate_images(1, img_dir_test)\n"
   ]
  }
 ],
 "metadata": {
  "kernelspec": {
   "display_name": "collegeEnv",
   "language": "python",
   "name": "python3"
  },
  "language_info": {
   "codemirror_mode": {
    "name": "ipython",
    "version": 3
   },
   "file_extension": ".py",
   "mimetype": "text/x-python",
   "name": "python",
   "nbconvert_exporter": "python",
   "pygments_lexer": "ipython3",
   "version": "3.10.13"
  }
 },
 "nbformat": 4,
 "nbformat_minor": 2
}
