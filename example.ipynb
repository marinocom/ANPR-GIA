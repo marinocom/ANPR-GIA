{
 "cells": [
  {
   "cell_type": "code",
   "execution_count": 1,
   "metadata": {},
   "outputs": [
    {
     "name": "stderr",
     "output_type": "stream",
     "text": [
      "/home/eric/miniconda3/envs/yolo/lib/python3.10/site-packages/tqdm/auto.py:21: TqdmWarning: IProgress not found. Please update jupyter and ipywidgets. See https://ipywidgets.readthedocs.io/en/stable/user_install.html\n",
      "  from .autonotebook import tqdm as notebook_tqdm\n"
     ]
    },
    {
     "name": "stdout",
     "output_type": "stream",
     "text": [
      "Using device cuda\n"
     ]
    }
   ],
   "source": [
    "from pipeline import Pipeline\n",
    "from huggingface_hub import hf_hub_download\n",
    "\n",
    "model_path = hf_hub_download(repo_id=\"Pikurrot/yolo11n-licenseplates\", filename=\"yolo11n_licenseplates.pt\")\n",
    "pipeline = Pipeline(model_path)"
   ]
  },
  {
   "cell_type": "code",
   "execution_count": 2,
   "metadata": {},
   "outputs": [
    {
     "name": "stdout",
     "output_type": "stream",
     "text": [
      "\n",
      "image 1/12 /media/eric/D/repos/ANPR-GIA/images/reduced/0.jpg: 384x640 1 license_plate, 45.7ms\n",
      "image 2/12 /media/eric/D/repos/ANPR-GIA/images/reduced/1.jpg: 384x640 1 license_plate, 14.5ms\n",
      "image 3/12 /media/eric/D/repos/ANPR-GIA/images/reduced/10.jpeg: 480x640 1 license_plate, 36.2ms\n",
      "image 4/12 /media/eric/D/repos/ANPR-GIA/images/reduced/11.jpeg: 640x480 1 license_plate, 35.4ms\n",
      "image 5/12 /media/eric/D/repos/ANPR-GIA/images/reduced/2.jpg: 288x640 1 license_plate, 34.8ms\n",
      "image 6/12 /media/eric/D/repos/ANPR-GIA/images/reduced/3.jpg: 288x640 1 license_plate, 12.7ms\n",
      "image 7/12 /media/eric/D/repos/ANPR-GIA/images/reduced/4.jpg: 288x640 1 license_plate, 12.8ms\n",
      "image 8/12 /media/eric/D/repos/ANPR-GIA/images/reduced/5.jpg: 384x640 1 license_plate, 14.6ms\n",
      "image 9/12 /media/eric/D/repos/ANPR-GIA/images/reduced/6.jpg: 480x640 1 license_plate, 9.6ms\n",
      "image 10/12 /media/eric/D/repos/ANPR-GIA/images/reduced/7.jpg: 640x640 1 license_plate, 12.2ms\n",
      "image 11/12 /media/eric/D/repos/ANPR-GIA/images/reduced/8.jpg: 448x640 1 license_plate, 34.0ms\n",
      "image 12/12 /media/eric/D/repos/ANPR-GIA/images/reduced/9.jpg: 288x640 1 license_plate, 12.6ms\n",
      "Speed: 2.3ms preprocess, 22.9ms inference, 9.2ms postprocess per image at shape (1, 3, 288, 640)\n"
     ]
    }
   ],
   "source": [
    "segments = pipeline(\"images/reduced/\")"
   ]
  },
  {
   "cell_type": "code",
   "execution_count": 4,
   "metadata": {},
   "outputs": [
    {
     "name": "stdout",
     "output_type": "stream",
     "text": [
      "\n",
      "image 1/12 /media/eric/D/repos/ANPR-GIA/images/reduced/0.jpg: 384x640 1 license_plate, 15.4ms\n",
      "image 2/12 /media/eric/D/repos/ANPR-GIA/images/reduced/1.jpg: 384x640 1 license_plate, 14.3ms\n",
      "image 3/12 /media/eric/D/repos/ANPR-GIA/images/reduced/10.jpeg: 480x640 1 license_plate, 10.4ms\n",
      "image 4/12 /media/eric/D/repos/ANPR-GIA/images/reduced/11.jpeg: 640x480 1 license_plate, 9.2ms\n",
      "image 5/12 /media/eric/D/repos/ANPR-GIA/images/reduced/2.jpg: 288x640 1 license_plate, 13.7ms\n",
      "image 6/12 /media/eric/D/repos/ANPR-GIA/images/reduced/3.jpg: 288x640 1 license_plate, 12.5ms\n",
      "image 7/12 /media/eric/D/repos/ANPR-GIA/images/reduced/4.jpg: 288x640 1 license_plate, 13.1ms\n",
      "image 8/12 /media/eric/D/repos/ANPR-GIA/images/reduced/5.jpg: 384x640 1 license_plate, 15.0ms\n",
      "image 9/12 /media/eric/D/repos/ANPR-GIA/images/reduced/6.jpg: 480x640 1 license_plate, 9.3ms\n",
      "image 10/12 /media/eric/D/repos/ANPR-GIA/images/reduced/7.jpg: 640x640 1 license_plate, 12.0ms\n",
      "image 11/12 /media/eric/D/repos/ANPR-GIA/images/reduced/8.jpg: 448x640 1 license_plate, 10.1ms\n",
      "image 12/12 /media/eric/D/repos/ANPR-GIA/images/reduced/9.jpg: 288x640 1 license_plate, 13.8ms\n",
      "Speed: 2.6ms preprocess, 12.4ms inference, 1.2ms postprocess per image at shape (1, 3, 288, 640)\n"
     ]
    }
   ],
   "source": [
    "detections = pipeline.detect(\"images/reduced/\", 640, 0.25, -1)"
   ]
  },
  {
   "cell_type": "code",
   "execution_count": 5,
   "metadata": {},
   "outputs": [
    {
     "data": {
      "text/plain": [
       "[[{'image': <PIL.Image.Image image mode=RGB size=3x4032>,\n",
       "   'box': [1237, 1200, 2557, 1568],\n",
       "   'conf': 0.8641365170478821}],\n",
       " [{'image': <PIL.Image.Image image mode=RGB size=3x4032>,\n",
       "   'box': [1056, 937, 2003, 1314],\n",
       "   'conf': 0.8627058863639832}],\n",
       " [{'image': <PIL.Image.Image image mode=RGB size=3x4032>,\n",
       "   'box': [1885, 1289, 2675, 1782],\n",
       "   'conf': 0.9310530424118042}],\n",
       " [{'image': <PIL.Image.Image image mode=RGB size=3x3024>,\n",
       "   'box': [1720, 1888, 1913, 2332],\n",
       "   'conf': 0.8982633352279663}],\n",
       " [{'image': <PIL.Image.Image image mode=RGB size=3x2560>,\n",
       "   'box': [697, 626, 1373, 783],\n",
       "   'conf': 0.8348332047462463}],\n",
       " [{'image': <PIL.Image.Image image mode=RGB size=3x2560>,\n",
       "   'box': [996, 473, 1449, 628],\n",
       "   'conf': 0.5373973846435547}],\n",
       " [{'image': <PIL.Image.Image image mode=RGB size=3x2560>,\n",
       "   'box': [926, 654, 1467, 810],\n",
       "   'conf': 0.682855486869812}],\n",
       " [{'image': <PIL.Image.Image image mode=RGB size=3x4032>,\n",
       "   'box': [533, 742, 1465, 1216],\n",
       "   'conf': 0.887658417224884}],\n",
       " [{'image': <PIL.Image.Image image mode=RGB size=3x1600>,\n",
       "   'box': [561, 519, 801, 594],\n",
       "   'conf': 0.8602527976036072}],\n",
       " [{'image': <PIL.Image.Image image mode=RGB size=3x2048>,\n",
       "   'box': [500, 921, 1015, 1068],\n",
       "   'conf': 0.8620052933692932}],\n",
       " [{'image': <PIL.Image.Image image mode=RGB size=3x2893>,\n",
       "   'box': [1343, 957, 1736, 1093],\n",
       "   'conf': 0.894075334072113}],\n",
       " [{'image': <PIL.Image.Image image mode=RGB size=3x2560>,\n",
       "   'box': [1073, 138, 1401, 365],\n",
       "   'conf': 0.7655619382858276}]]"
      ]
     },
     "execution_count": 5,
     "metadata": {},
     "output_type": "execute_result"
    }
   ],
   "source": [
    "detections"
   ]
  }
 ],
 "metadata": {
  "kernelspec": {
   "display_name": "yolo",
   "language": "python",
   "name": "python3"
  },
  "language_info": {
   "codemirror_mode": {
    "name": "ipython",
    "version": 3
   },
   "file_extension": ".py",
   "mimetype": "text/x-python",
   "name": "python",
   "nbconvert_exporter": "python",
   "pygments_lexer": "ipython3",
   "version": "3.10.15"
  }
 },
 "nbformat": 4,
 "nbformat_minor": 2
}
