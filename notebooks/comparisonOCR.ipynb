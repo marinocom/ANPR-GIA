{
 "cells": [
  {
   "cell_type": "code",
   "execution_count": 1,
   "metadata": {},
   "outputs": [
    {
     "name": "stdout",
     "output_type": "stream",
     "text": [
      "Using device cuda\n"
     ]
    }
   ],
   "source": [
    "import sys\n",
    "sys.path.append('..')\n",
    "import pytesseract\n",
    "import easyocr\n",
    "from paddleocr import PaddleOCR\n",
    "import matplotlib.pyplot as plt\n",
    "import numpy as np\n",
    "from pipeline import Pipeline\n",
    "from huggingface_hub import hf_hub_download\n",
    "from tqdm import tqdm\n",
    "import logging\n",
    "\n",
    "logging.getLogger(\"ppocr\").setLevel(logging.ERROR)\n",
    "\n",
    "model_path = hf_hub_download(repo_id=\"Pikurrot/yolo11n-licenseplates\", filename=\"yolo11n_licenseplates.pt\")\n",
    "pipeline = Pipeline(model_path)"
   ]
  },
  {
   "cell_type": "code",
   "execution_count": 2,
   "metadata": {},
   "outputs": [
    {
     "name": "stdout",
     "output_type": "stream",
     "text": [
      "\n",
      "image 1/69 /media/eric/D/repos/ANPR-GIA/notebooks/../DatasetTotal/Frontal/0129KMK.jpg: 288x640 1 License Plate, 64.7ms\n",
      "image 2/69 /media/eric/D/repos/ANPR-GIA/notebooks/../DatasetTotal/Frontal/0195JHM.jpg: 576x640 1 License Plate, 32.2ms\n",
      "image 3/69 /media/eric/D/repos/ANPR-GIA/notebooks/../DatasetTotal/Frontal/0225JWL.jpg: 640x480 1 License Plate, 33.9ms\n",
      "image 4/69 /media/eric/D/repos/ANPR-GIA/notebooks/../DatasetTotal/Frontal/0226MPP.jpg: 640x480 1 License Plate, 8.9ms\n",
      "image 5/69 /media/eric/D/repos/ANPR-GIA/notebooks/../DatasetTotal/Frontal/0278KXW.jpg: 544x640 1 License Plate, 34.3ms\n",
      "image 6/69 /media/eric/D/repos/ANPR-GIA/notebooks/../DatasetTotal/Frontal/0304FWK.jpg: 448x640 1 License Plate, 34.6ms\n",
      "image 7/69 /media/eric/D/repos/ANPR-GIA/notebooks/../DatasetTotal/Frontal/0425KDK_.jpg: 640x480 (no detections), 9.5ms\n",
      "image 8/69 /media/eric/D/repos/ANPR-GIA/notebooks/../DatasetTotal/Frontal/0492MTT.jpg: 640x640 1 License Plate, 12.1ms\n",
      "image 9/69 /media/eric/D/repos/ANPR-GIA/notebooks/../DatasetTotal/Frontal/0550HNN.jpg: 640x640 1 License Plate, 11.6ms\n",
      "image 10/69 /media/eric/D/repos/ANPR-GIA/notebooks/../DatasetTotal/Frontal/0649DHS.jpg: 640x480 1 License Plate, 9.5ms\n",
      "image 11/69 /media/eric/D/repos/ANPR-GIA/notebooks/../DatasetTotal/Frontal/0804CZV.jpg: 448x640 1 License Plate, 8.2ms\n",
      "image 12/69 /media/eric/D/repos/ANPR-GIA/notebooks/../DatasetTotal/Frontal/0874LNH.jpg: 480x640 1 License Plate, 34.2ms\n",
      "image 13/69 /media/eric/D/repos/ANPR-GIA/notebooks/../DatasetTotal/Frontal/1062FNT.jpg: 384x640 1 License Plate, 32.9ms\n",
      "image 14/69 /media/eric/D/repos/ANPR-GIA/notebooks/../DatasetTotal/Frontal/1111LRB.jpg: 288x640 1 License Plate, 13.2ms\n",
      "image 15/69 /media/eric/D/repos/ANPR-GIA/notebooks/../DatasetTotal/Frontal/1310MPK.jpg: 576x640 1 License Plate, 10.5ms\n",
      "image 16/69 /media/eric/D/repos/ANPR-GIA/notebooks/../DatasetTotal/Frontal/1339MMS.jpg: 288x640 1 License Plate, 13.3ms\n",
      "image 17/69 /media/eric/D/repos/ANPR-GIA/notebooks/../DatasetTotal/Frontal/1426JVT.jpg: 288x640 1 License Plate, 12.5ms\n",
      "image 18/69 /media/eric/D/repos/ANPR-GIA/notebooks/../DatasetTotal/Frontal/1565HTS.jpg: 384x640 1 License Plate, 14.5ms\n",
      "image 19/69 /media/eric/D/repos/ANPR-GIA/notebooks/../DatasetTotal/Frontal/1612MHX.jpg: 288x640 1 License Plate, 12.9ms\n",
      "image 20/69 /media/eric/D/repos/ANPR-GIA/notebooks/../DatasetTotal/Frontal/1755JKV.jpeg: 480x640 1 License Plate, 9.5ms\n",
      "image 21/69 /media/eric/D/repos/ANPR-GIA/notebooks/../DatasetTotal/Frontal/1949LLT.jpg: 576x640 1 License Plate, 10.0ms\n",
      "image 22/69 /media/eric/D/repos/ANPR-GIA/notebooks/../DatasetTotal/Frontal/2153GYX.jpg: 384x640 1 License Plate, 13.8ms\n",
      "image 23/69 /media/eric/D/repos/ANPR-GIA/notebooks/../DatasetTotal/Frontal/2841LJX.jpg: 640x480 1 License Plate, 9.3ms\n",
      "image 24/69 /media/eric/D/repos/ANPR-GIA/notebooks/../DatasetTotal/Frontal/2885BKJ.jpg: 640x480 1 License Plate, 8.3ms\n",
      "image 25/69 /media/eric/D/repos/ANPR-GIA/notebooks/../DatasetTotal/Frontal/2929KXJ.jpg: 384x640 1 License Plate, 14.0ms\n",
      "image 26/69 /media/eric/D/repos/ANPR-GIA/notebooks/../DatasetTotal/Frontal/3046KWK.jpeg: 480x640 1 License Plate, 9.1ms\n",
      "image 27/69 /media/eric/D/repos/ANPR-GIA/notebooks/../DatasetTotal/Frontal/3161LNC.jpg: 640x640 1 License Plate, 11.6ms\n",
      "image 28/69 /media/eric/D/repos/ANPR-GIA/notebooks/../DatasetTotal/Frontal/3340JMF.jpg: 384x640 1 License Plate, 14.7ms\n",
      "image 29/69 /media/eric/D/repos/ANPR-GIA/notebooks/../DatasetTotal/Frontal/3451LGB.jpg: 576x640 1 License Plate, 10.6ms\n",
      "image 30/69 /media/eric/D/repos/ANPR-GIA/notebooks/../DatasetTotal/Frontal/3497BYY.jpg: 576x640 2 License Plates, 9.5ms\n",
      "image 31/69 /media/eric/D/repos/ANPR-GIA/notebooks/../DatasetTotal/Frontal/3587DCX.jpg: 384x640 1 License Plate, 14.4ms\n",
      "image 32/69 /media/eric/D/repos/ANPR-GIA/notebooks/../DatasetTotal/Frontal/3929GVS.jpg: 480x640 1 License Plate, 9.5ms\n",
      "image 33/69 /media/eric/D/repos/ANPR-GIA/notebooks/../DatasetTotal/Frontal/4125DVF.jpg: 640x480 1 License Plate, 9.4ms\n",
      "image 34/69 /media/eric/D/repos/ANPR-GIA/notebooks/../DatasetTotal/Frontal/4181GWT.jpg: 288x640 1 License Plate, 13.6ms\n",
      "image 35/69 /media/eric/D/repos/ANPR-GIA/notebooks/../DatasetTotal/Frontal/4182KMG.jpg: 640x480 1 License Plate, 9.6ms\n",
      "image 36/69 /media/eric/D/repos/ANPR-GIA/notebooks/../DatasetTotal/Frontal/4674FHC.jpg: 384x640 1 License Plate, 14.0ms\n",
      "image 37/69 /media/eric/D/repos/ANPR-GIA/notebooks/../DatasetTotal/Frontal/5133MBD.jpg: 288x640 1 License Plate, 12.7ms\n",
      "image 38/69 /media/eric/D/repos/ANPR-GIA/notebooks/../DatasetTotal/Frontal/5172LTZ.jpg: 640x480 1 License Plate, 9.1ms\n",
      "image 39/69 /media/eric/D/repos/ANPR-GIA/notebooks/../DatasetTotal/Frontal/5179LBS.jpg: 352x640 1 License Plate, 32.6ms\n",
      "image 40/69 /media/eric/D/repos/ANPR-GIA/notebooks/../DatasetTotal/Frontal/5240BFM.jpg: 512x640 2 License Plates, 33.1ms\n",
      "image 41/69 /media/eric/D/repos/ANPR-GIA/notebooks/../DatasetTotal/Frontal/5275HGY.jpg: 384x640 1 License Plate, 14.6ms\n",
      "image 42/69 /media/eric/D/repos/ANPR-GIA/notebooks/../DatasetTotal/Frontal/5488LKV.jpg: 384x640 1 License Plate, 13.9ms\n",
      "image 43/69 /media/eric/D/repos/ANPR-GIA/notebooks/../DatasetTotal/Frontal/5796DKP.jpg: 384x640 1 License Plate, 13.9ms\n",
      "image 44/69 /media/eric/D/repos/ANPR-GIA/notebooks/../DatasetTotal/Frontal/6072HBJ.jpg: 640x640 1 License Plate, 12.1ms\n",
      "image 45/69 /media/eric/D/repos/ANPR-GIA/notebooks/../DatasetTotal/Frontal/6445HNP.jpg: 640x480 1 License Plate, 9.4ms\n",
      "image 46/69 /media/eric/D/repos/ANPR-GIA/notebooks/../DatasetTotal/Frontal/6688KSW.jpg: 640x480 1 License Plate, 8.7ms\n",
      "image 47/69 /media/eric/D/repos/ANPR-GIA/notebooks/../DatasetTotal/Frontal/6704KNN.jpg: 640x320 1 License Plate, 40.0ms\n",
      "image 48/69 /media/eric/D/repos/ANPR-GIA/notebooks/../DatasetTotal/Frontal/6775BNF.jpg: 288x640 1 License Plate, 13.5ms\n",
      "image 49/69 /media/eric/D/repos/ANPR-GIA/notebooks/../DatasetTotal/Frontal/7016MLZ.jpg: 288x640 1 License Plate, 12.7ms\n",
      "image 50/69 /media/eric/D/repos/ANPR-GIA/notebooks/../DatasetTotal/Frontal/7067KSH.jpg: 384x640 1 License Plate, 14.1ms\n",
      "image 51/69 /media/eric/D/repos/ANPR-GIA/notebooks/../DatasetTotal/Frontal/7153JWD.jpg: 384x640 1 License Plate, 13.8ms\n",
      "image 52/69 /media/eric/D/repos/ANPR-GIA/notebooks/../DatasetTotal/Frontal/7254LJJ.jpg: 640x480 1 License Plate, 9.3ms\n",
      "image 53/69 /media/eric/D/repos/ANPR-GIA/notebooks/../DatasetTotal/Frontal/7318GSB.jpg: 480x640 1 License Plate, 9.4ms\n",
      "image 54/69 /media/eric/D/repos/ANPR-GIA/notebooks/../DatasetTotal/Frontal/7746KBG.jpg: 544x640 1 License Plate, 10.4ms\n",
      "image 55/69 /media/eric/D/repos/ANPR-GIA/notebooks/../DatasetTotal/Frontal/7963KNH.jpg: 480x640 1 License Plate, 9.5ms\n",
      "image 56/69 /media/eric/D/repos/ANPR-GIA/notebooks/../DatasetTotal/Frontal/8120GLL.jpg: 288x640 1 License Plate, 13.5ms\n",
      "image 57/69 /media/eric/D/repos/ANPR-GIA/notebooks/../DatasetTotal/Frontal/8555JKG.jpg: 640x480 1 License Plate, 9.1ms\n",
      "image 58/69 /media/eric/D/repos/ANPR-GIA/notebooks/../DatasetTotal/Frontal/8691KPN.jpg: 512x640 1 License Plate, 9.8ms\n",
      "image 59/69 /media/eric/D/repos/ANPR-GIA/notebooks/../DatasetTotal/Frontal/8727JTC.jpg: 384x640 1 License Plate, 14.6ms\n",
      "image 60/69 /media/eric/D/repos/ANPR-GIA/notebooks/../DatasetTotal/Frontal/9247CZG.jpg: 384x640 1 License Plate, 13.8ms\n",
      "image 61/69 /media/eric/D/repos/ANPR-GIA/notebooks/../DatasetTotal/Frontal/9455JKM-o.jpg: 640x480 3 License Plates, 8.8ms\n",
      "image 62/69 /media/eric/D/repos/ANPR-GIA/notebooks/../DatasetTotal/Frontal/9498LCN.jpg: 640x480 1 License Plate, 8.3ms\n",
      "image 63/69 /media/eric/D/repos/ANPR-GIA/notebooks/../DatasetTotal/Frontal/9532GVC-n.jpg: 640x480 1 License Plate, 8.9ms\n",
      "image 64/69 /media/eric/D/repos/ANPR-GIA/notebooks/../DatasetTotal/Frontal/9542KDC.jpg: 608x640 1 License Plate, 32.6ms\n",
      "image 65/69 /media/eric/D/repos/ANPR-GIA/notebooks/../DatasetTotal/Frontal/9572HXT.jpg: 640x480 1 License Plate, 8.8ms\n",
      "image 66/69 /media/eric/D/repos/ANPR-GIA/notebooks/../DatasetTotal/Frontal/9603LFP.jpg: 288x640 1 License Plate, 13.6ms\n",
      "image 67/69 /media/eric/D/repos/ANPR-GIA/notebooks/../DatasetTotal/Frontal/9603MPD.jpg: 288x640 1 License Plate, 12.7ms\n",
      "image 68/69 /media/eric/D/repos/ANPR-GIA/notebooks/../DatasetTotal/Frontal/9869KST.jpg: 576x640 1 License Plate, 10.9ms\n",
      "image 69/69 /media/eric/D/repos/ANPR-GIA/notebooks/../DatasetTotal/Frontal/9892JFR.jpg: 384x640 1 License Plate, 14.4ms\n",
      "Speed: 3.0ms preprocess, 15.5ms inference, 3.7ms postprocess per image at shape (1, 3, 384, 640)\n"
     ]
    }
   ],
   "source": [
    "detections = pipeline.detect(\"../DatasetTotal/Frontal\", 640, 0.25, -1)\n",
    "crops = pipeline.extract_boxes(detections)"
   ]
  },
  {
   "cell_type": "code",
   "execution_count": 7,
   "metadata": {},
   "outputs": [
    {
     "name": "stdout",
     "output_type": "stream",
     "text": [
      "\n",
      "image 1/11 /media/eric/D/repos/ANPR-GIA/notebooks/../DatasetTotal/Above/-------.jpeg: 480x640 1 License Plate, 9.7ms\n",
      "image 2/11 /media/eric/D/repos/ANPR-GIA/notebooks/../DatasetTotal/Above/1072FRD.jpg: 640x480 1 License Plate, 9.6ms\n",
      "image 3/11 /media/eric/D/repos/ANPR-GIA/notebooks/../DatasetTotal/Above/2953JHW.jpg: 640x480 1 License Plate, 10.5ms\n",
      "image 4/11 /media/eric/D/repos/ANPR-GIA/notebooks/../DatasetTotal/Above/2956MJG.jpg: 640x480 1 License Plate, 8.4ms\n",
      "image 5/11 /media/eric/D/repos/ANPR-GIA/notebooks/../DatasetTotal/Above/3691MTY.jpg: 640x480 1 License Plate, 8.9ms\n",
      "image 6/11 /media/eric/D/repos/ANPR-GIA/notebooks/../DatasetTotal/Above/4373KYG.jpg: 288x640 1 License Plate, 13.7ms\n",
      "image 7/11 /media/eric/D/repos/ANPR-GIA/notebooks/../DatasetTotal/Above/6005KFV.jpg: 288x640 2 License Plates, 12.6ms\n",
      "image 8/11 /media/eric/D/repos/ANPR-GIA/notebooks/../DatasetTotal/Above/6556KKH.jpg: 640x480 2 License Plates, 8.9ms\n",
      "image 9/11 /media/eric/D/repos/ANPR-GIA/notebooks/../DatasetTotal/Above/8083HTW.jpg: 640x480 1 License Plate, 9.2ms\n",
      "image 10/11 /media/eric/D/repos/ANPR-GIA/notebooks/../DatasetTotal/Above/9063MPD.jpg: 288x640 1 License Plate, 13.4ms\n",
      "image 11/11 /media/eric/D/repos/ANPR-GIA/notebooks/../DatasetTotal/Above/9883GTM.jpg: 640x480 1 License Plate, 9.2ms\n",
      "Speed: 5.1ms preprocess, 10.4ms inference, 1.1ms postprocess per image at shape (1, 3, 640, 480)\n"
     ]
    }
   ],
   "source": [
    "detections2 = pipeline.detect(\"../DatasetTotal/Above\", 640, 0.25, -1)\n",
    "crops2 = pipeline.extract_boxes(detections2)"
   ]
  },
  {
   "cell_type": "code",
   "execution_count": 8,
   "metadata": {},
   "outputs": [
    {
     "name": "stdout",
     "output_type": "stream",
     "text": [
      "\n",
      "image 1/62 /media/eric/D/repos/ANPR-GIA/notebooks/../DatasetTotal/Lateral/0041LZN.jpg: 288x640 1 License Plate, 15.0ms\n",
      "image 2/62 /media/eric/D/repos/ANPR-GIA/notebooks/../DatasetTotal/Lateral/0182GLK.jpg: 384x640 1 License Plate, 16.5ms\n",
      "image 3/62 /media/eric/D/repos/ANPR-GIA/notebooks/../DatasetTotal/Lateral/0192DSP.jpg: 288x640 1 License Plate, 14.4ms\n",
      "image 4/62 /media/eric/D/repos/ANPR-GIA/notebooks/../DatasetTotal/Lateral/0425KDK.jpg: 640x480 1 License Plate, 9.1ms\n",
      "image 5/62 /media/eric/D/repos/ANPR-GIA/notebooks/../DatasetTotal/Lateral/0560JDX.jpg: 640x480 1 License Plate, 9.0ms\n",
      "image 6/62 /media/eric/D/repos/ANPR-GIA/notebooks/../DatasetTotal/Lateral/0568MBX.jpg: 640x480 1 License Plate, 9.8ms\n",
      "image 7/62 /media/eric/D/repos/ANPR-GIA/notebooks/../DatasetTotal/Lateral/0907JRF.jpg: 384x640 1 License Plate, 16.2ms\n",
      "image 8/62 /media/eric/D/repos/ANPR-GIA/notebooks/../DatasetTotal/Lateral/1498JBZ.jpg: 384x640 1 License Plate, 13.3ms\n",
      "image 9/62 /media/eric/D/repos/ANPR-GIA/notebooks/../DatasetTotal/Lateral/1556GMZ.jpg: 384x640 1 License Plate, 14.1ms\n",
      "image 10/62 /media/eric/D/repos/ANPR-GIA/notebooks/../DatasetTotal/Lateral/1599DLB.jpg: 640x640 1 License Plate, 12.9ms\n",
      "image 11/62 /media/eric/D/repos/ANPR-GIA/notebooks/../DatasetTotal/Lateral/1601MTH.jpeg: 480x640 1 License Plate, 12.1ms\n",
      "image 12/62 /media/eric/D/repos/ANPR-GIA/notebooks/../DatasetTotal/Lateral/1819LPN.jpeg: 480x640 1 License Plate, 11.3ms\n",
      "image 13/62 /media/eric/D/repos/ANPR-GIA/notebooks/../DatasetTotal/Lateral/1855MHN.jpg: 640x480 1 License Plate, 9.7ms\n",
      "image 14/62 /media/eric/D/repos/ANPR-GIA/notebooks/../DatasetTotal/Lateral/220LNW.jpg: 640x480 1 License Plate, 10.5ms\n",
      "image 15/62 /media/eric/D/repos/ANPR-GIA/notebooks/../DatasetTotal/Lateral/2273JVP.jpg: 640x480 1 License Plate, 9.9ms\n",
      "image 16/62 /media/eric/D/repos/ANPR-GIA/notebooks/../DatasetTotal/Lateral/2344KJP.jpg: 384x640 1 License Plate, 15.9ms\n",
      "image 17/62 /media/eric/D/repos/ANPR-GIA/notebooks/../DatasetTotal/Lateral/3044JMB.jpg: 384x640 2 License Plates, 13.3ms\n",
      "image 18/62 /media/eric/D/repos/ANPR-GIA/notebooks/../DatasetTotal/Lateral/3076CCV.jpg: 640x480 1 License Plate, 11.1ms\n",
      "image 19/62 /media/eric/D/repos/ANPR-GIA/notebooks/../DatasetTotal/Lateral/3582LBT.jpeg: 480x640 1 License Plate, 10.2ms\n",
      "image 20/62 /media/eric/D/repos/ANPR-GIA/notebooks/../DatasetTotal/Lateral/3587DCX.jpg: 384x640 1 License Plate, 14.9ms\n",
      "image 21/62 /media/eric/D/repos/ANPR-GIA/notebooks/../DatasetTotal/Lateral/3660CRT.jpg: 384x640 1 License Plate, 13.7ms\n",
      "image 22/62 /media/eric/D/repos/ANPR-GIA/notebooks/../DatasetTotal/Lateral/3964LXV.jpeg: 480x640 1 License Plate, 9.1ms\n",
      "image 23/62 /media/eric/D/repos/ANPR-GIA/notebooks/../DatasetTotal/Lateral/3964LXV_.jpeg: 480x640 1 License Plate, 14.8ms\n",
      "image 24/62 /media/eric/D/repos/ANPR-GIA/notebooks/../DatasetTotal/Lateral/4000GFL.jpg: 416x640 1 License Plate, 48.4ms\n",
      "image 25/62 /media/eric/D/repos/ANPR-GIA/notebooks/../DatasetTotal/Lateral/4080KRB.jpg: 288x640 (no detections), 13.6ms\n",
      "image 26/62 /media/eric/D/repos/ANPR-GIA/notebooks/../DatasetTotal/Lateral/4283DJR.jpg: 640x480 3 License Plates, 9.1ms\n",
      "image 27/62 /media/eric/D/repos/ANPR-GIA/notebooks/../DatasetTotal/Lateral/4481DKX.jpg: 640x640 1 License Plate, 12.6ms\n",
      "image 28/62 /media/eric/D/repos/ANPR-GIA/notebooks/../DatasetTotal/Lateral/4674FHC.jpg: 384x640 1 License Plate, 14.8ms\n",
      "image 29/62 /media/eric/D/repos/ANPR-GIA/notebooks/../DatasetTotal/Lateral/4757GSY.jpeg: 480x640 1 License Plate, 12.8ms\n",
      "image 30/62 /media/eric/D/repos/ANPR-GIA/notebooks/../DatasetTotal/Lateral/5004MGB.jpg: 288x640 2 License Plates, 12.9ms\n",
      "image 31/62 /media/eric/D/repos/ANPR-GIA/notebooks/../DatasetTotal/Lateral/5052HLJ.jpg: 640x480 1 License Plate, 11.8ms\n",
      "image 32/62 /media/eric/D/repos/ANPR-GIA/notebooks/../DatasetTotal/Lateral/5215HSH.jpg: 416x640 1 License Plate, 8.1ms\n",
      "image 33/62 /media/eric/D/repos/ANPR-GIA/notebooks/../DatasetTotal/Lateral/5215HXL.jpeg: 480x640 1 License Plate, 12.9ms\n",
      "image 34/62 /media/eric/D/repos/ANPR-GIA/notebooks/../DatasetTotal/Lateral/5240KSW.jpg: 288x640 1 License Plate, 17.3ms\n",
      "image 35/62 /media/eric/D/repos/ANPR-GIA/notebooks/../DatasetTotal/Lateral/5275HGY.jpg: 384x640 1 License Plate, 14.8ms\n",
      "image 36/62 /media/eric/D/repos/ANPR-GIA/notebooks/../DatasetTotal/Lateral/5422MSY.jpeg: 640x480 1 License Plate, 10.5ms\n",
      "image 37/62 /media/eric/D/repos/ANPR-GIA/notebooks/../DatasetTotal/Lateral/5493DHZ.jpg: 288x640 1 License Plate, 13.1ms\n",
      "image 38/62 /media/eric/D/repos/ANPR-GIA/notebooks/../DatasetTotal/Lateral/5789JHB.jpg: 384x640 1 License Plate, 15.9ms\n",
      "image 39/62 /media/eric/D/repos/ANPR-GIA/notebooks/../DatasetTotal/Lateral/5796DKP.jpg: 384x640 1 License Plate, 13.7ms\n",
      "image 40/62 /media/eric/D/repos/ANPR-GIA/notebooks/../DatasetTotal/Lateral/5816FWG.jpg: 480x640 1 License Plate, 9.4ms\n",
      "image 41/62 /media/eric/D/repos/ANPR-GIA/notebooks/../DatasetTotal/Lateral/6000GVT.jpg: 384x640 1 License Plate, 14.2ms\n",
      "image 42/62 /media/eric/D/repos/ANPR-GIA/notebooks/../DatasetTotal/Lateral/6040DLX.jpg: 448x640 1 License Plate, 8.9ms\n",
      "image 43/62 /media/eric/D/repos/ANPR-GIA/notebooks/../DatasetTotal/Lateral/6222JWN.jpg: 640x480 1 License Plate, 9.3ms\n",
      "image 44/62 /media/eric/D/repos/ANPR-GIA/notebooks/../DatasetTotal/Lateral/6230FXF.jpg: 640x480 1 License Plate, 10.1ms\n",
      "image 45/62 /media/eric/D/repos/ANPR-GIA/notebooks/../DatasetTotal/Lateral/6401JBX.jpg: 384x640 1 License Plate, 14.9ms\n",
      "image 46/62 /media/eric/D/repos/ANPR-GIA/notebooks/../DatasetTotal/Lateral/6554BNX.jpg: 384x640 1 License Plate, 14.0ms\n",
      "image 47/62 /media/eric/D/repos/ANPR-GIA/notebooks/../DatasetTotal/Lateral/6888LYP.jpg: 288x640 1 License Plate, 14.0ms\n",
      "image 48/62 /media/eric/D/repos/ANPR-GIA/notebooks/../DatasetTotal/Lateral/6929LKK.jpg: 384x640 1 License Plate, 14.7ms\n",
      "image 49/62 /media/eric/D/repos/ANPR-GIA/notebooks/../DatasetTotal/Lateral/7007KFD.jpg: 288x640 2 License Plates, 14.1ms\n",
      "image 50/62 /media/eric/D/repos/ANPR-GIA/notebooks/../DatasetTotal/Lateral/7332JKC.jpg: 640x480 1 License Plate, 9.6ms\n",
      "image 51/62 /media/eric/D/repos/ANPR-GIA/notebooks/../DatasetTotal/Lateral/7469JYS.jpeg: 480x640 1 License Plate, 9.8ms\n",
      "image 52/62 /media/eric/D/repos/ANPR-GIA/notebooks/../DatasetTotal/Lateral/8014LXF.jpeg: 480x640 1 License Plate, 9.0ms\n",
      "image 53/62 /media/eric/D/repos/ANPR-GIA/notebooks/../DatasetTotal/Lateral/8597FSC.jpg: 288x640 2 License Plates, 13.3ms\n",
      "image 54/62 /media/eric/D/repos/ANPR-GIA/notebooks/../DatasetTotal/Lateral/8727JTC.jpg: 384x640 1 License Plate, 14.7ms\n",
      "image 55/62 /media/eric/D/repos/ANPR-GIA/notebooks/../DatasetTotal/Lateral/8778LVY.jpg: 448x640 1 License Plate, 8.4ms\n",
      "image 56/62 /media/eric/D/repos/ANPR-GIA/notebooks/../DatasetTotal/Lateral/8953JXP.jpeg: 480x640 1 License Plate, 9.5ms\n",
      "image 57/62 /media/eric/D/repos/ANPR-GIA/notebooks/../DatasetTotal/Lateral/8970GZR.jpg: 608x640 2 License Plates, 10.7ms\n",
      "image 58/62 /media/eric/D/repos/ANPR-GIA/notebooks/../DatasetTotal/Lateral/9075MDZ.jpg: 640x480 2 License Plates, 8.9ms\n",
      "image 59/62 /media/eric/D/repos/ANPR-GIA/notebooks/../DatasetTotal/Lateral/9395MSB.jpg: 640x480 1 License Plate, 8.9ms\n",
      "image 60/62 /media/eric/D/repos/ANPR-GIA/notebooks/../DatasetTotal/Lateral/9455JKM.jpg: 640x480 1 License Plate, 9.2ms\n",
      "image 61/62 /media/eric/D/repos/ANPR-GIA/notebooks/../DatasetTotal/Lateral/9786KTP.jpeg: 480x640 1 License Plate, 8.9ms\n",
      "image 62/62 /media/eric/D/repos/ANPR-GIA/notebooks/../DatasetTotal/Lateral/9961HDK.jpeg: 480x640 1 License Plate, 9.0ms\n",
      "Speed: 4.2ms preprocess, 12.6ms inference, 1.3ms postprocess per image at shape (1, 3, 480, 640)\n"
     ]
    }
   ],
   "source": [
    "detections3 = pipeline.detect(\"../DatasetTotal/Lateral\", 640, 0.25, -1)\n",
    "crops3 = pipeline.extract_boxes(detections3)"
   ]
  },
  {
   "cell_type": "code",
   "execution_count": 3,
   "metadata": {},
   "outputs": [],
   "source": [
    "pytesseract.pytesseract.tesseract_cmd = r'/usr/bin/tesseract'\n",
    "easyocr_reader = easyocr.Reader(['en'])\n",
    "paddleocr_reader = PaddleOCR(use_angle_cls=True, lang='en')"
   ]
  },
  {
   "cell_type": "code",
   "execution_count": 10,
   "metadata": {},
   "outputs": [
    {
     "name": "stderr",
     "output_type": "stream",
     "text": [
      "100%|██████████| 153/153 [00:56<00:00,  2.69it/s]\n"
     ]
    }
   ],
   "source": [
    "import time\n",
    "\n",
    "all_crops = crops + crops2 + crops3\n",
    "\n",
    "gt = [\n",
    "\tplate[\"path\"].split(\"/\")[-1].split(\".\")[0]\n",
    "\tfor img in all_crops\n",
    "\tfor plate in img\n",
    "]\n",
    "pred_tesseract = []\n",
    "pred_easyocr = []\n",
    "pred_paddleocr = []\n",
    "time_tesseract = []\n",
    "time_easyocr = []\n",
    "time_paddleocr = []\n",
    "\n",
    "for img in tqdm(all_crops):\n",
    "\tfor plate in img:\n",
    "\t\tpath, plate = plate.values()\n",
    "\t\tstart_time = time.time()\n",
    "\t\tres_tesseract = pytesseract.image_to_data(\n",
    "\t\t\tplate,\n",
    "\t\t\tconfig='--psm 10 --oem 3 -c tessedit_char_whitelist=0123456789ABCDEFGHIJKLMNOPQRSTUVWXYZ',\n",
    "\t\t\toutput_type=pytesseract.Output.DICT\n",
    "\t\t)\n",
    "\t\tres_tesseract = res_tesseract[\"text\"][-1].replace(\" \", \"\")\n",
    "\t\ttime_tesseract.append(time.time() - start_time)\n",
    "\t\tstart_time = time.time()\n",
    "\t\tres_easyocr = easyocr_reader.readtext(\n",
    "\t\t\tnp.array(plate),\n",
    "\t\t\tallowlist=\"0123456789ABCDEFGHIJKLMNOPQRSTUVWXYZ\",\n",
    "\t\t)\n",
    "\t\tres_easyocr = \"\".join([recog[-2] for recog in res_easyocr]).replace(\" \", \"\")\n",
    "\t\ttime_easyocr.append(time.time() - start_time)\n",
    "\t\tstart_time\n",
    "\t\tres_paddleocr = paddleocr_reader.ocr(np.array(plate), det=False, rec=True, cls=False)\n",
    "\t\tres_paddleocr = res_paddleocr[0][0][0].replace(\" \", \"\")\n",
    "\t\ttime_paddleocr.append(time.time() - start_time)\n",
    "\t\tpred_tesseract.append(res_tesseract)\n",
    "\t\tpred_easyocr.append(res_easyocr)\n",
    "\t\tpred_paddleocr.append(res_paddleocr)"
   ]
  },
  {
   "cell_type": "code",
   "execution_count": 11,
   "metadata": {},
   "outputs": [
    {
     "name": "stdout",
     "output_type": "stream",
     "text": [
      "Tesseract accuracy: 0.10778443113772455 Time: 0.2082792870298831\n",
      "EasyOCR accuracy: 0.17365269461077845 Time: 0.09397158651294822\n",
      "PaddleOCR accuracy: 0.562874251497006 Time: 0.1322282374262096\n",
      "Tesseract similarity: 0.5790419161676646\n",
      "EasyOCR similarity: 0.6250951409391882\n",
      "PaddleOCR similarity: 0.7994368406045052\n"
     ]
    }
   ],
   "source": [
    "def accuracy(gt, pred):\n",
    "\treturn sum([1 for i in range(len(gt)) if gt[i] == pred[i]]) / len(gt)\n",
    "\n",
    "from Levenshtein import distance\n",
    "\n",
    "def compute_similarity_percentage(predictions, gt):\n",
    "    similarities = []\n",
    "    for pred, true in zip(predictions, gt):\n",
    "        d = distance(pred, true)\n",
    "        max_len = max(len(pred), len(true))\n",
    "        if max_len > 0:\n",
    "            similarity = (1 - d / max_len)\n",
    "        else:\n",
    "            similarity = 1.0\n",
    "        similarities.append(similarity)\n",
    "    \n",
    "    average_similarity = sum(similarities) / len(similarities) if similarities else 0\n",
    "    return similarities, average_similarity\n",
    "\n",
    "print(\"Tesseract accuracy:\", accuracy(gt, pred_tesseract), \"Time:\", np.mean(time_tesseract))\n",
    "print(\"EasyOCR accuracy:\", accuracy(gt, pred_easyocr), \"Time:\", np.mean(time_easyocr))\n",
    "print(\"PaddleOCR accuracy:\", accuracy(gt, pred_paddleocr), \"Time:\", np.mean(time_paddleocr))\n",
    "print(\"Tesseract similarity:\", compute_similarity_percentage(pred_tesseract, gt)[1])\n",
    "print(\"EasyOCR similarity:\", compute_similarity_percentage(pred_easyocr, gt)[1])\n",
    "print(\"PaddleOCR similarity:\", compute_similarity_percentage(pred_paddleocr, gt)[1])"
   ]
  }
 ],
 "metadata": {
  "kernelspec": {
   "display_name": "yolo",
   "language": "python",
   "name": "python3"
  },
  "language_info": {
   "codemirror_mode": {
    "name": "ipython",
    "version": 3
   },
   "file_extension": ".py",
   "mimetype": "text/x-python",
   "name": "python",
   "nbconvert_exporter": "python",
   "pygments_lexer": "ipython3",
   "version": "3.10.15"
  }
 },
 "nbformat": 4,
 "nbformat_minor": 2
}
