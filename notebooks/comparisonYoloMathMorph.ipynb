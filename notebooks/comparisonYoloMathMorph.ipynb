{
 "cells": [
  {
   "cell_type": "markdown",
   "metadata": {},
   "source": [
    "from PIL import Image\n",
    "import cv2\n",
    "\n",
    "example_img = cv2.imread('../images/diverse/Copia de 1727095338102.jpg')\n",
    "example_img = cv2.cvtColor(example_img, cv2.COLOR_BGR2RGB)\n",
    "example_img = Image.fromarray(example_img)\n",
    "\n",
    "model = YOLO('../yolo11n_finetuned.pt')"
   ]
  },
  {
   "cell_type": "code",
   "execution_count": null,
   "metadata": {
    "vscode": {
     "languageId": "plaintext"
    }
   },
   "outputs": [],
   "source": [
    "results = model(\"../images/reduced\", imgsz=640, verbose=False)"
   ]
  },
  {
   "cell_type": "code",
   "execution_count": null,
   "metadata": {
    "vscode": {
     "languageId": "plaintext"
    }
   },
   "outputs": [],
   "source": [
    "box = results[0][0].boxes.xyxy[0].cpu().numpy().astype(int).tolist()\n",
    "box"
   ]
  },
  {
   "cell_type": "code",
   "execution_count": null,
   "metadata": {
    "vscode": {
     "languageId": "plaintext"
    }
   },
   "outputs": [],
   "source": []
  }
 ],
 "metadata": {
  "language_info": {
   "name": "python"
  }
 },
 "nbformat": 4,
 "nbformat_minor": 2
}
