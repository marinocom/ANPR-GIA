{
 "cells": [
  {
   "cell_type": "code",
   "execution_count": 3,
   "metadata": {},
   "outputs": [],
   "source": [
    "from typing import List, Tuple\n",
    "from PIL import Image, ImageDraw, ImageOps\n",
    "import numpy as np\n",
    "import cv2\n",
    "import torch\n",
    "import torch.nn as nn\n",
    "import torchvision.transforms as transforms\n",
    "import pytesseract\n",
    "from tqdm import tqdm\n",
    "\n",
    "# Ensure pytesseract is properly configured\n",
    "pytesseract.pytesseract.tesseract_cmd = r'/usr/bin/tesseract'  # Update the path as needed\n",
    "\n",
    "# Custom Dataset Loading (EMNIST Dataset)\n",
    "from torchvision.datasets import EMNIST\n",
    "from torch.utils.data import DataLoader\n",
    "\n",
    "# Load EMNIST dataset filtered for uppercase letters and digits\n",
    "transform = transforms.Compose([\n",
    "    transforms.Grayscale(num_output_channels=1),\n",
    "    transforms.ToTensor(),\n",
    "    transforms.Normalize((0.5,), (0.5,))\n",
    "])\n",
    "\n",
    "dataset = EMNIST(root='./data', split='byclass', train=True, download=True, transform=transform)\n",
    "\n",
    "# Filter and remap labels to fit within our 36 classes (0-9, A-Z)\n",
    "filtered_dataset = []\n",
    "for image, label in tqdm(dataset):\n",
    "    if 48 <= label <= 57:  # Digits (0-9)\n",
    "        filtered_label = label - 48  # Remap to 0-9\n",
    "        filtered_dataset.append((image, filtered_label))\n",
    "    elif 65 <= label <= 90:  # Uppercase letters (A-Z)\n",
    "        filtered_label = label - 55  # Remap to 10-35\n",
    "        filtered_dataset.append((image, filtered_label))\n",
    "\n",
    "train_loader = DataLoader(filtered_dataset, batch_size=64, shuffle=True)\n",
    "\n",
    "# Define the Convolutional Neural Network\n",
    "class CharacterRecognitionNet(nn.Module):\n",
    "    def __init__(self):\n",
    "        super(CharacterRecognitionNet, self).__init__()\n",
    "        self.conv1 = nn.Conv2d(1, 32, kernel_size=3, stride=1, padding=1)\n",
    "        self.conv2 = nn.Conv2d(32, 64, kernel_size=3, stride=1, padding=1)\n",
    "        self.pool = nn.MaxPool2d(2, 2)\n",
    "        self.fc1 = nn.Linear(64 * 7 * 7, 128)\n",
    "        self.fc2 = nn.Linear(128, 36)  # 36 output classes (10 digits + 26 uppercase letters)\n",
    "\n",
    "    def forward(self, x):\n",
    "        x = self.pool(torch.relu(self.conv1(x)))\n",
    "        x = self.pool(torch.relu(self.conv2(x)))\n",
    "        x = x.view(-1, 64 * 7 * 7)\n",
    "        x = torch.relu(self.fc1(x))\n",
    "        x = self.fc2(x)\n",
    "        return x"
   ]
  },
  {
   "cell_type": "code",
   "execution_count": 8,
   "metadata": {},
   "outputs": [
    {
     "name": "stdout",
     "output_type": "stream",
     "text": [
      "Using device: cuda\n"
     ]
    },
    {
     "name": "stderr",
     "output_type": "stream",
     "text": [
      "100%|██████████| 986/986 [00:05<00:00, 185.88it/s]\n"
     ]
    },
    {
     "name": "stdout",
     "output_type": "stream",
     "text": [
      "Epoch [1/5], Loss: 0.2132\n"
     ]
    },
    {
     "name": "stderr",
     "output_type": "stream",
     "text": [
      "100%|██████████| 986/986 [00:05<00:00, 186.14it/s]\n"
     ]
    },
    {
     "name": "stdout",
     "output_type": "stream",
     "text": [
      "Epoch [2/5], Loss: 0.0813\n"
     ]
    },
    {
     "name": "stderr",
     "output_type": "stream",
     "text": [
      "100%|██████████| 986/986 [00:05<00:00, 185.67it/s]\n"
     ]
    },
    {
     "name": "stdout",
     "output_type": "stream",
     "text": [
      "Epoch [3/5], Loss: 0.0616\n"
     ]
    },
    {
     "name": "stderr",
     "output_type": "stream",
     "text": [
      "100%|██████████| 986/986 [00:05<00:00, 185.43it/s]\n"
     ]
    },
    {
     "name": "stdout",
     "output_type": "stream",
     "text": [
      "Epoch [4/5], Loss: 0.0509\n"
     ]
    },
    {
     "name": "stderr",
     "output_type": "stream",
     "text": [
      "100%|██████████| 986/986 [00:05<00:00, 178.60it/s]\n"
     ]
    },
    {
     "name": "stdout",
     "output_type": "stream",
     "text": [
      "Epoch [5/5], Loss: 0.0423\n"
     ]
    }
   ],
   "source": [
    "device = torch.device('cuda' if torch.cuda.is_available() else 'cpu')\n",
    "print(f'Using device: {device}')\n",
    "\n",
    "# Train the Model\n",
    "net = CharacterRecognitionNet().to(device)\n",
    "criterion = nn.CrossEntropyLoss()\n",
    "optimizer = torch.optim.Adam(net.parameters(), lr=0.001)\n",
    "\n",
    "epochs = 5\n",
    "for epoch in range(epochs):\n",
    "\trunning_loss = 0.0\n",
    "\tfor images, labels in tqdm(train_loader):\n",
    "\t\timages, labels = images.to(device), labels.to(device)\n",
    "\t\toptimizer.zero_grad()\n",
    "\t\toutputs = net(images)\n",
    "\t\tloss = criterion(outputs, labels)\n",
    "\t\tloss.backward()\n",
    "\t\toptimizer.step()\n",
    "\t\trunning_loss += loss.item()\n",
    "\tprint(f'Epoch [{epoch+1}/{epochs}], Loss: {running_loss/len(train_loader):.4f}')\n",
    "\n",
    "# Save the Trained Model\n",
    "torch.save(net.state_dict(), 'character_recognition_model.pth')"
   ]
  },
  {
   "cell_type": "code",
   "execution_count": 9,
   "metadata": {},
   "outputs": [
    {
     "name": "stderr",
     "output_type": "stream",
     "text": [
      "100%|██████████| 116323/116323 [00:19<00:00, 5835.97it/s]\n"
     ]
    }
   ],
   "source": [
    "# Load EMNIST test dataset filtered for uppercase letters and digits\n",
    "test_dataset = EMNIST(root='./data', split='byclass', train=False, download=True, transform=transform)\n",
    "\n",
    "# Filter and remap labels to fit within our 36 classes (0-9, A-Z)\n",
    "filtered_test_dataset = []\n",
    "for image, label in tqdm(test_dataset):\n",
    "\tif 48 <= label <= 57:  # Digits (0-9)\n",
    "\t\tfiltered_label = label - 48  # Remap to 0-9\n",
    "\t\tfiltered_test_dataset.append((image, filtered_label))\n",
    "\telif 65 <= label <= 90:  # Uppercase letters (A-Z)\n",
    "\t\tfiltered_label = label - 55  # Remap to 10-35\n",
    "\t\tfiltered_test_dataset.append((image, filtered_label))\n",
    "\n",
    "test_loader = DataLoader(filtered_test_dataset, batch_size=64, shuffle=False)"
   ]
  },
  {
   "cell_type": "code",
   "execution_count": 10,
   "metadata": {},
   "outputs": [
    {
     "name": "stderr",
     "output_type": "stream",
     "text": [
      "/tmp/ipykernel_113132/2577644477.py:3: FutureWarning: You are using `torch.load` with `weights_only=False` (the current default value), which uses the default pickle module implicitly. It is possible to construct malicious pickle data which will execute arbitrary code during unpickling (See https://github.com/pytorch/pytorch/blob/main/SECURITY.md#untrusted-models for more details). In a future release, the default value for `weights_only` will be flipped to `True`. This limits the functions that could be executed during unpickling. Arbitrary objects will no longer be allowed to be loaded via this mode unless they are explicitly allowlisted by the user via `torch.serialization.add_safe_globals`. We recommend you start setting `weights_only=True` for any use case where you don't have full control of the loaded file. Please open an issue on GitHub for any issues related to this experimental feature.\n",
      "  net.load_state_dict(torch.load('character_recognition_model.pth'))\n",
      "100%|██████████| 163/163 [00:00<00:00, 471.81it/s]"
     ]
    },
    {
     "name": "stdout",
     "output_type": "stream",
     "text": [
      "Accuracy: 98.02%\n"
     ]
    },
    {
     "name": "stderr",
     "output_type": "stream",
     "text": [
      "\n"
     ]
    }
   ],
   "source": [
    "# test\n",
    "net = CharacterRecognitionNet().to(device)\n",
    "net.load_state_dict(torch.load('character_recognition_model.pth'))\n",
    "net.eval()\n",
    "\n",
    "correct = 0\n",
    "total = 0\n",
    "with torch.no_grad():\n",
    "\tfor images, labels in tqdm(test_loader):\n",
    "\t\timages, labels = images.to(device), labels.to(device)\n",
    "\t\toutputs = net(images)\n",
    "\t\t_, predicted = torch.max(outputs.data, 1)\n",
    "\t\ttotal += labels.size(0)\n",
    "\t\tcorrect += (predicted == labels).sum().item()\n",
    "\n",
    "print(f'Accuracy: {100 * correct / total:.2f}%')"
   ]
  },
  {
   "cell_type": "code",
   "execution_count": 20,
   "metadata": {},
   "outputs": [
    {
     "name": "stdout",
     "output_type": "stream",
     "text": [
      "Predicted character: 2\n"
     ]
    },
    {
     "data": {
      "image/jpeg": "[encoded data removed]",
      "image/png": "[encoded data removed]",
      "text/plain": [
       "<PIL.Image.Image image mode=L size=28x28>"
      ]
     },
     "execution_count": 20,
     "metadata": {},
     "output_type": "execute_result"
    }
   ],
   "source": [
    "def preprocess_image(image_path: str) -> torch.Tensor:\n",
    "\timage = Image.open(image_path).convert('L')  # Convert to grayscale first\n",
    "\timage = ImageOps.invert(image)\n",
    "\timage = image.resize((28, 28))\n",
    "\t\n",
    "\t# Apply binarization\n",
    "\timage = np.array(image)\n",
    "\t_, image = cv2.threshold(image, 128, 255, cv2.THRESH_BINARY)\n",
    "\t\n",
    "\t# Apply erosion\n",
    "\tkernel = np.ones((3, 3), np.uint8)\n",
    "\timage = cv2.erode(image, kernel, iterations=1)\n",
    "\t\n",
    "\timage = Image.fromarray(image)\n",
    "\timage = transforms.ToTensor()(image)\n",
    "\timage = transforms.Normalize((0.5,), (0.5,))(image)\n",
    "\treturn image\n",
    "\n",
    "def predict_image(image_path: str, model: nn.Module) -> str:\n",
    "\timage = preprocess_image(image_path).to(device)  # Move image to the same device as the model\n",
    "\timage = image.unsqueeze(0)\n",
    "\toutput = model(image)\n",
    "\t_, predicted = torch.max(output.data, 1)\n",
    "\treturn chr(predicted.item() + 55) if predicted.item() >= 10 else str(predicted.item())\n",
    "\n",
    "image_path = 'example.png'\n",
    "predicted_character = predict_image(image_path, net)\n",
    "print(f'Predicted character: {predicted_character}')\n",
    "\n",
    "def show_image(image_path: str):\n",
    "\t# apply same preprocessing and show\n",
    "\timage = Image.open(image_path).convert('L')\n",
    "\timage = ImageOps.invert(image)\n",
    "\timage = image.resize((28, 28))\n",
    "\t\n",
    "\t# Apply binarization\n",
    "\timage = np.array(image)\n",
    "\t_, image = cv2.threshold(image, 128, 255, cv2.THRESH_BINARY)\n",
    "\t\n",
    "\t# Apply erosion\n",
    "\tkernel = np.ones((3, 3), np.uint8)\n",
    "\timage = cv2.erode(image, kernel, iterations=1)\n",
    "\t\n",
    "\timage = Image.fromarray(image)\n",
    "\treturn image\n",
    "\n",
    "show_image(image_path)"
   ]
  },
  {
   "cell_type": "code",
   "execution_count": 33,
   "metadata": {},
   "outputs": [
    {
     "name": "stdout",
     "output_type": "stream",
     "text": [
      "Predicted character: 1\n",
      "Correct character: 1\n"
     ]
    },
    {
     "data": {
      "image/png": "[encoded data removed]",
      "text/plain": [
       "<Figure size 1000x500 with 2 Axes>"
      ]
     },
     "metadata": {},
     "output_type": "display_data"
    }
   ],
   "source": [
    "import matplotlib.pyplot as plt\n",
    "\n",
    "# Define the preprocessing function\n",
    "def preprocess_image(image: Image.Image) -> torch.Tensor:\n",
    "\t# image = image.convert('L')  # Convert to grayscale first\n",
    "\t# image = ImageOps.invert(image)\n",
    "\t# image = image.resize((28, 28))\n",
    "\t\n",
    "\t# # Apply binarization\n",
    "\t# image = np.array(image)\n",
    "\t# _, image = cv2.threshold(image, 128, 255, cv2.THRESH_BINARY)\n",
    "\t\n",
    "\t# # Apply erosion\n",
    "\t# kernel = np.ones((3, 3), np.uint8)\n",
    "\t# image = cv2.erode(image, kernel, iterations=1)\n",
    "\t\n",
    "\t# image = Image.fromarray(image)\n",
    "\timage = transforms.ToTensor()(image)\n",
    "\timage = transforms.Normalize((0.5,), (0.5,))(image)\n",
    "\treturn image\n",
    "\n",
    "# Define the prediction function\n",
    "def predict_image(image: Image.Image, model: nn.Module) -> str:\n",
    "\timage = preprocess_image(image).to(device)  # Move image to the same device as the model\n",
    "\timage = image.unsqueeze(0)\n",
    "\toutput = model(image)\n",
    "\t_, predicted = torch.max(output.data, 1)\n",
    "\treturn chr(predicted.item() + 55) if predicted.item() >= 10 else str(predicted.item())\n",
    "\n",
    "# Get a single image from the test set\n",
    "test_image, test_label = next(iter(test_loader))\n",
    "i = 5\n",
    "\n",
    "# Convert the tensor image to PIL image for display\n",
    "test_image_pil = transforms.ToPILImage()(test_image[i].squeeze(0))\n",
    "\n",
    "# Predict the character\n",
    "predicted_character = predict_image(test_image_pil, net)\n",
    "correct_character = chr(test_label[i].item() + 55) if test_label[i].item() >= 10 else str(test_label[i].item())\n",
    "print(f'Predicted character: {predicted_character}')\n",
    "print(f'Correct character: {correct_character}')\n",
    "\n",
    "# Show the preprocessed image\n",
    "def show_image(image: Image.Image):\n",
    "\t# Apply the same preprocessing and show\n",
    "\t# image = image.convert('L')\n",
    "\t# image = ImageOps.invert(image)\n",
    "\t# image = image.resize((28, 28))\n",
    "\t\n",
    "\t# # Apply binarization\n",
    "\t# image = np.array(image)\n",
    "\t# _, image = cv2.threshold(image, 128, 255, cv2.THRESH_BINARY)\n",
    "\t\n",
    "\t# # Apply erosion\n",
    "\t# kernel = np.ones((3, 3), np.uint8)\n",
    "\t# image = cv2.erode(image, kernel, iterations=1)\n",
    "\t\n",
    "\t# image = Image.fromarray(image)\n",
    "\treturn image\n",
    "\n",
    "# Display the original and preprocessed images\n",
    "original_image = transforms.ToPILImage()(test_image[i].squeeze(0))\n",
    "preprocessed_image = show_image(test_image_pil)\n",
    "\n",
    "plt.figure(figsize=(10, 5))\n",
    "plt.subplot(1, 2, 1)\n",
    "plt.title(\"Original Image\")\n",
    "plt.imshow(original_image, cmap='gray')\n",
    "plt.subplot(1, 2, 2)\n",
    "plt.title(\"Preprocessed Image\")\n",
    "plt.imshow(preprocessed_image, cmap='gray')\n",
    "plt.show()"
   ]
  },
  {
   "cell_type": "markdown",
   "metadata": {},
   "source": [
    "---"
   ]
  },
  {
   "cell_type": "code",
   "execution_count": 55,
   "metadata": {},
   "outputs": [
    {
     "name": "stderr",
     "output_type": "stream",
     "text": [
      "100%|██████████| 36/36 [00:01<00:00, 32.19it/s]\n"
     ]
    }
   ],
   "source": [
    "from PIL import Image, ImageDraw, ImageFont\n",
    "import os\n",
    "\n",
    "# Directory setup for dataset\n",
    "output_dir = \"./custom_dataset\"\n",
    "if not os.path.exists(output_dir):\n",
    "    os.makedirs(output_dir)\n",
    "\n",
    "# Path to your .ttf file\n",
    "font_path = \"Datasets/Recognition/Generate Dataset/alte-din-1451-mittelschrift/din1451alt.ttf\"\n",
    "font_size = 70\n",
    "\n",
    "# Load font\n",
    "font = ImageFont.truetype(font_path, font_size)\n",
    "\n",
    "# Generate images for each character\n",
    "characters = \"0123456789ABCDEFGHIJKLMNOPQRSTUVWXYZ\"\n",
    "\n",
    "for char in tqdm(characters):\n",
    "\tchar_dir = os.path.join(output_dir, char)\n",
    "\tif not os.path.exists(char_dir):\n",
    "\t\tos.makedirs(char_dir)\n",
    "\n",
    "\t# Generate multiple samples for data augmentation\n",
    "\tfor i in range(50):  # Create 50 variants of each character\n",
    "\t\timage = Image.new(\"L\", (64, 64), color=0)  # Black background\n",
    "\t\tdraw = ImageDraw.Draw(image)\n",
    "\t\ttext_bbox = font.getbbox(char)  # Fix: Use font.getbbox instead of font.getsize\n",
    "\n",
    "\t\t# Calculate position to center the character\n",
    "\t\ttext_x = (image.width - (text_bbox[2] - text_bbox[0])) / 2\n",
    "\t\ttext_y = (image.height - (text_bbox[3] - text_bbox[1])) / 2 - text_bbox[1]  # Adjust text_y to center vertically\n",
    "\n",
    "\t\tdraw.text((text_x, text_y), char, fill=255, font=font)  # White character\n",
    "\n",
    "\t\t# Save generated character image\n",
    "\t\timage.save(f\"{char_dir}/{char}_{i}.png\")\n"
   ]
  },
  {
   "cell_type": "code",
   "execution_count": 56,
   "metadata": {},
   "outputs": [
    {
     "name": "stderr",
     "output_type": "stream",
     "text": [
      "100%|██████████| 36/36 [00:02<00:00, 13.33it/s]\n"
     ]
    }
   ],
   "source": [
    "import albumentations as A\n",
    "from albumentations.pytorch import ToTensorV2\n",
    "import cv2\n",
    "import glob\n",
    "import numpy as np\n",
    "\n",
    "# Define augmentations to apply\n",
    "augmentations = A.Compose([\n",
    "    A.ShiftScaleRotate(shift_limit=0.1, scale_limit=0.1, rotate_limit=15, p=0.7),\n",
    "    A.GaussianBlur(blur_limit=(3, 5), p=0.5)\n",
    "])\n",
    "\n",
    "# Load images and apply augmentations\n",
    "for char in tqdm(\"0123456789ABCDEFGHIJKLMNOPQRSTUVWXYZ\"):\n",
    "    char_dir = os.path.join(output_dir, char)\n",
    "    image_paths = glob.glob(f\"{char_dir}/*.png\")\n",
    "    \n",
    "    for image_path in image_paths:\n",
    "        img = cv2.imread(image_path, cv2.IMREAD_GRAYSCALE)\n",
    "        if img is not None:\n",
    "            augmented = augmentations(image=img)\n",
    "            aug_img = augmented[\"image\"]\n",
    "\n",
    "            # Ensure the image is properly inverted and converted to uint8\n",
    "            aug_img = np.clip(aug_img, 0, 255).astype(np.uint8)\n",
    "\n",
    "            # Save augmented images\n",
    "            save_path = image_path.replace(\".png\", \".png\")\n",
    "            cv2.imwrite(save_path, aug_img)"
   ]
  },
  {
   "cell_type": "code",
   "execution_count": 65,
   "metadata": {},
   "outputs": [],
   "source": [
    "import torch\n",
    "from torch.utils.data import Dataset, DataLoader, random_split\n",
    "import torchvision.transforms as transforms\n",
    "from pathlib import Path\n",
    "import random\n",
    "\n",
    "class CustomCharDataset(Dataset):\n",
    "\tdef __init__(self, root_dir, transform=None):\n",
    "\t\tself.root_dir = Path(root_dir)\n",
    "\t\tself.transform = transform\n",
    "\t\tself.image_paths = list(self.root_dir.glob('*/*.png'))\n",
    "\t\tself.labels = {char: idx for idx, char in enumerate(characters)}\n",
    "\n",
    "\tdef __len__(self):\n",
    "\t\treturn len(self.image_paths)\n",
    "\n",
    "\tdef __getitem__(self, idx):\n",
    "\t\timg_path = self.image_paths[idx]\n",
    "\t\timage = Image.open(img_path).convert(\"L\")  # Convert to grayscale\n",
    "\t\tlabel = self.labels[img_path.parent.name]\n",
    "\n",
    "\t\tif self.transform:\n",
    "\t\t\timage = self.transform(image)\n",
    "\n",
    "\t\treturn image, label\n",
    "\n",
    "transform = transforms.Compose([\n",
    "\ttransforms.Resize((28, 28)),\n",
    "\ttransforms.ToTensor(),\n",
    "\ttransforms.Normalize((0.5,), (0.5,))\n",
    "])\n",
    "\n",
    "dataset = CustomCharDataset(root_dir=output_dir, transform=transform)\n",
    "\n",
    "# Split the dataset into training and testing sets\n",
    "train_size = int(0.8 * len(dataset))\n",
    "test_size = len(dataset) - train_size\n",
    "train_dataset, test_dataset = random_split(dataset, [train_size, test_size])\n",
    "\n",
    "train_loader = DataLoader(train_dataset, batch_size=128, shuffle=True)\n",
    "test_loader = DataLoader(test_dataset, batch_size=128, shuffle=False)"
   ]
  },
  {
   "cell_type": "code",
   "execution_count": 66,
   "metadata": {},
   "outputs": [
    {
     "name": "stdout",
     "output_type": "stream",
     "text": [
      "Using device: cuda\n"
     ]
    },
    {
     "name": "stderr",
     "output_type": "stream",
     "text": [
      "100%|██████████| 12/12 [00:01<00:00, 10.07it/s]\n"
     ]
    },
    {
     "name": "stdout",
     "output_type": "stream",
     "text": [
      "Epoch [1/10], Loss: 3.4200\n"
     ]
    },
    {
     "name": "stderr",
     "output_type": "stream",
     "text": [
      "100%|██████████| 12/12 [00:00<00:00, 12.06it/s]\n"
     ]
    },
    {
     "name": "stdout",
     "output_type": "stream",
     "text": [
      "Epoch [2/10], Loss: 2.2905\n"
     ]
    },
    {
     "name": "stderr",
     "output_type": "stream",
     "text": [
      "100%|██████████| 12/12 [00:00<00:00, 12.00it/s]\n"
     ]
    },
    {
     "name": "stdout",
     "output_type": "stream",
     "text": [
      "Epoch [3/10], Loss: 1.1296\n"
     ]
    },
    {
     "name": "stderr",
     "output_type": "stream",
     "text": [
      "100%|██████████| 12/12 [00:00<00:00, 12.76it/s]\n"
     ]
    },
    {
     "name": "stdout",
     "output_type": "stream",
     "text": [
      "Epoch [4/10], Loss: 0.6267\n"
     ]
    },
    {
     "name": "stderr",
     "output_type": "stream",
     "text": [
      "100%|██████████| 12/12 [00:01<00:00, 11.51it/s]\n"
     ]
    },
    {
     "name": "stdout",
     "output_type": "stream",
     "text": [
      "Epoch [5/10], Loss: 0.4147\n"
     ]
    },
    {
     "name": "stderr",
     "output_type": "stream",
     "text": [
      "100%|██████████| 12/12 [00:01<00:00, 11.64it/s]\n"
     ]
    },
    {
     "name": "stdout",
     "output_type": "stream",
     "text": [
      "Epoch [6/10], Loss: 0.2621\n"
     ]
    },
    {
     "name": "stderr",
     "output_type": "stream",
     "text": [
      "100%|██████████| 12/12 [00:01<00:00,  8.11it/s]\n"
     ]
    },
    {
     "name": "stdout",
     "output_type": "stream",
     "text": [
      "Epoch [7/10], Loss: 0.1611\n"
     ]
    },
    {
     "name": "stderr",
     "output_type": "stream",
     "text": [
      "100%|██████████| 12/12 [00:01<00:00,  9.22it/s]\n"
     ]
    },
    {
     "name": "stdout",
     "output_type": "stream",
     "text": [
      "Epoch [8/10], Loss: 0.1023\n"
     ]
    },
    {
     "name": "stderr",
     "output_type": "stream",
     "text": [
      "100%|██████████| 12/12 [00:01<00:00, 11.37it/s]\n"
     ]
    },
    {
     "name": "stdout",
     "output_type": "stream",
     "text": [
      "Epoch [9/10], Loss: 0.0619\n"
     ]
    },
    {
     "name": "stderr",
     "output_type": "stream",
     "text": [
      "100%|██████████| 12/12 [00:01<00:00, 10.51it/s]"
     ]
    },
    {
     "name": "stdout",
     "output_type": "stream",
     "text": [
      "Epoch [10/10], Loss: 0.0373\n"
     ]
    },
    {
     "name": "stderr",
     "output_type": "stream",
     "text": [
      "\n"
     ]
    }
   ],
   "source": [
    "device = torch.device('cuda' if torch.cuda.is_available() else 'cpu')\n",
    "print(f'Using device: {device}')\n",
    "\n",
    "# Train the Model\n",
    "net = CharacterRecognitionNet().to(device)\n",
    "criterion = nn.CrossEntropyLoss()\n",
    "optimizer = torch.optim.Adam(net.parameters(), lr=0.001)\n",
    "\n",
    "epochs = 10\n",
    "for epoch in range(epochs):\n",
    "\trunning_loss = 0.0\n",
    "\tfor images, labels in tqdm(train_loader):\n",
    "\t\timages, labels = images.to(device), labels.to(device)\n",
    "\t\toptimizer.zero_grad()\n",
    "\t\toutputs = net(images)\n",
    "\t\tloss = criterion(outputs, labels)\n",
    "\t\tloss.backward()\n",
    "\t\toptimizer.step()\n",
    "\t\trunning_loss += loss.item()\n",
    "\tprint(f'Epoch [{epoch+1}/{epochs}], Loss: {running_loss/len(train_loader):.4f}')\n",
    "\n",
    "# Save the Trained Model\n",
    "torch.save(net.state_dict(), 'character_recognition_model.pth')"
   ]
  },
  {
   "cell_type": "code",
   "execution_count": 67,
   "metadata": {},
   "outputs": [
    {
     "name": "stderr",
     "output_type": "stream",
     "text": [
      "/tmp/ipykernel_113132/2577644477.py:3: FutureWarning: You are using `torch.load` with `weights_only=False` (the current default value), which uses the default pickle module implicitly. It is possible to construct malicious pickle data which will execute arbitrary code during unpickling (See https://github.com/pytorch/pytorch/blob/main/SECURITY.md#untrusted-models for more details). In a future release, the default value for `weights_only` will be flipped to `True`. This limits the functions that could be executed during unpickling. Arbitrary objects will no longer be allowed to be loaded via this mode unless they are explicitly allowlisted by the user via `torch.serialization.add_safe_globals`. We recommend you start setting `weights_only=True` for any use case where you don't have full control of the loaded file. Please open an issue on GitHub for any issues related to this experimental feature.\n",
      "  net.load_state_dict(torch.load('character_recognition_model.pth'))\n",
      "100%|██████████| 3/3 [00:00<00:00, 11.33it/s]"
     ]
    },
    {
     "name": "stdout",
     "output_type": "stream",
     "text": [
      "Accuracy: 94.44%\n"
     ]
    },
    {
     "name": "stderr",
     "output_type": "stream",
     "text": [
      "\n"
     ]
    }
   ],
   "source": [
    "# test\n",
    "net = CharacterRecognitionNet().to(device)\n",
    "net.load_state_dict(torch.load('character_recognition_model.pth'))\n",
    "net.eval()\n",
    "\n",
    "correct = 0\n",
    "total = 0\n",
    "with torch.no_grad():\n",
    "\tfor images, labels in tqdm(test_loader):\n",
    "\t\timages, labels = images.to(device), labels.to(device)\n",
    "\t\toutputs = net(images)\n",
    "\t\t_, predicted = torch.max(outputs.data, 1)\n",
    "\t\ttotal += labels.size(0)\n",
    "\t\tcorrect += (predicted == labels).sum().item()\n",
    "\n",
    "print(f'Accuracy: {100 * correct / total:.2f}%')"
   ]
  },
  {
   "cell_type": "code",
   "execution_count": 70,
   "metadata": {},
   "outputs": [
    {
     "name": "stdout",
     "output_type": "stream",
     "text": [
      "Predicted character: 6\n"
     ]
    },
    {
     "data": {
      "image/jpeg": "[encoded data removed]",
      "image/png": "[encoded data removed]",
      "text/plain": [
       "<PIL.Image.Image image mode=L size=28x28>"
      ]
     },
     "execution_count": 70,
     "metadata": {},
     "output_type": "execute_result"
    }
   ],
   "source": [
    "def preprocess_image(image_path: str) -> torch.Tensor:\n",
    "\timage = Image.open(image_path).convert('L')  # Convert to grayscale first\n",
    "\timage = ImageOps.invert(image)\n",
    "\timage = image.resize((28, 28))\n",
    "\t\n",
    "\t# Apply binarization\n",
    "\timage = np.array(image)\n",
    "\t_, image = cv2.threshold(image, 128, 255, cv2.THRESH_BINARY)\n",
    "\t\n",
    "\t# Apply erosion\n",
    "\tkernel = np.ones((3, 3), np.uint8)\n",
    "\timage = cv2.erode(image, kernel, iterations=1)\n",
    "\t\n",
    "\timage = Image.fromarray(image)\n",
    "\timage = transforms.ToTensor()(image)\n",
    "\timage = transforms.Normalize((0.5,), (0.5,))(image)\n",
    "\treturn image\n",
    "\n",
    "def predict_image(image_path: str, model: nn.Module) -> str:\n",
    "\timage = preprocess_image(image_path).to(device)  # Move image to the same device as the model\n",
    "\timage = image.unsqueeze(0)\n",
    "\toutput = model(image)\n",
    "\t_, predicted = torch.max(output.data, 1)\n",
    "\treturn chr(predicted.item() + 55) if predicted.item() >= 10 else str(predicted.item())\n",
    "\n",
    "image_path = 'example.png'\n",
    "predicted_character = predict_image(image_path, net)\n",
    "print(f'Predicted character: {predicted_character}')\n",
    "\n",
    "def show_image(image_path: str):\n",
    "\t# apply same preprocessing and show\n",
    "\timage = Image.open(image_path).convert('L')\n",
    "\timage = ImageOps.invert(image)\n",
    "\timage = image.resize((28, 28))\n",
    "\t\n",
    "\t# Apply binarization\n",
    "\timage = np.array(image)\n",
    "\t_, image = cv2.threshold(image, 128, 255, cv2.THRESH_BINARY)\n",
    "\t\n",
    "\t# Apply erosion\n",
    "\tkernel = np.ones((3, 3), np.uint8)\n",
    "\timage = cv2.erode(image, kernel, iterations=1)\n",
    "\t\n",
    "\timage = Image.fromarray(image)\n",
    "\treturn image\n",
    "\n",
    "show_image(image_path)"
   ]
  }
 ],
 "metadata": {
  "kernelspec": {
   "display_name": "yolo",
   "language": "python",
   "name": "python3"
  },
  "language_info": {
   "codemirror_mode": {
    "name": "ipython",
    "version": 3
   },
   "file_extension": ".py",
   "mimetype": "text/x-python",
   "name": "python",
   "nbconvert_exporter": "python",
   "pygments_lexer": "ipython3",
   "version": "3.10.15"
  }
 },
 "nbformat": 4,
 "nbformat_minor": 2
}
