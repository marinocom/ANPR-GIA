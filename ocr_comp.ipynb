{
 "cells": [
  {
   "cell_type": "code",
   "execution_count": 1,
   "metadata": {},
   "outputs": [
    {
     "name": "stdout",
     "output_type": "stream",
     "text": [
      "Using device cuda\n"
     ]
    }
   ],
   "source": [
    "import pytesseract\n",
    "import easyocr\n",
    "from paddleocr import PaddleOCR\n",
    "import matplotlib.pyplot as plt\n",
    "import numpy as np\n",
    "from pipeline import Pipeline\n",
    "from huggingface_hub import hf_hub_download\n",
    "from tqdm import tqdm\n",
    "import logging\n",
    "\n",
    "logging.getLogger(\"ppocr\").setLevel(logging.ERROR)\n",
    "\n",
    "model_path = hf_hub_download(repo_id=\"Pikurrot/yolo11n-licenseplates\", filename=\"yolo11n_licenseplates.pt\")\n",
    "pipeline = Pipeline(model_path)"
   ]
  },
  {
   "cell_type": "code",
   "execution_count": 2,
   "metadata": {},
   "outputs": [
    {
     "name": "stdout",
     "output_type": "stream",
     "text": [
      "\n",
      "image 1/69 /media/eric/D/repos/ANPR-GIA/DatasetTotal/Frontal/0129KMK.jpg: 288x640 1 license_plate, 193.2ms\n",
      "image 2/69 /media/eric/D/repos/ANPR-GIA/DatasetTotal/Frontal/0195JHM.jpg: 576x640 1 license_plate, 107.1ms\n",
      "image 3/69 /media/eric/D/repos/ANPR-GIA/DatasetTotal/Frontal/0225JWL.jpg: 640x480 1 license_plate, 133.6ms\n",
      "image 4/69 /media/eric/D/repos/ANPR-GIA/DatasetTotal/Frontal/0226MPP.jpg: 640x480 1 license_plate, 18.6ms\n",
      "image 5/69 /media/eric/D/repos/ANPR-GIA/DatasetTotal/Frontal/0278KXW.jpg: 544x640 1 license_plate, 122.0ms\n",
      "image 6/69 /media/eric/D/repos/ANPR-GIA/DatasetTotal/Frontal/0304FWK.jpg: 448x640 1 license_plate, 86.3ms\n",
      "image 7/69 /media/eric/D/repos/ANPR-GIA/DatasetTotal/Frontal/0425KDK_.jpg: 640x480 (no detections), 19.1ms\n",
      "image 8/69 /media/eric/D/repos/ANPR-GIA/DatasetTotal/Frontal/0492MTT.jpg: 640x640 1 license_plate, 26.8ms\n",
      "image 9/69 /media/eric/D/repos/ANPR-GIA/DatasetTotal/Frontal/0550HNN.jpg: 640x640 2 license_plates, 29.8ms\n",
      "image 10/69 /media/eric/D/repos/ANPR-GIA/DatasetTotal/Frontal/0649DHS.jpg: 640x480 1 license_plate, 12.1ms\n",
      "image 11/69 /media/eric/D/repos/ANPR-GIA/DatasetTotal/Frontal/0804CZV.jpg: 448x640 1 license_plate, 19.1ms\n",
      "image 12/69 /media/eric/D/repos/ANPR-GIA/DatasetTotal/Frontal/0874LNH.jpg: 480x640 1 license_plate, 111.8ms\n",
      "image 13/69 /media/eric/D/repos/ANPR-GIA/DatasetTotal/Frontal/1062FNT.jpg: 384x640 1 license_plate, 114.0ms\n",
      "image 14/69 /media/eric/D/repos/ANPR-GIA/DatasetTotal/Frontal/1111LRB.jpg: 288x640 1 license_plate, 17.1ms\n",
      "image 15/69 /media/eric/D/repos/ANPR-GIA/DatasetTotal/Frontal/1310MPK.jpg: 576x640 1 license_plate, 21.6ms\n",
      "image 16/69 /media/eric/D/repos/ANPR-GIA/DatasetTotal/Frontal/1339MMS.jpg: 288x640 1 license_plate, 31.9ms\n",
      "image 17/69 /media/eric/D/repos/ANPR-GIA/DatasetTotal/Frontal/1426JVT.jpg: 288x640 1 license_plate, 22.9ms\n",
      "image 18/69 /media/eric/D/repos/ANPR-GIA/DatasetTotal/Frontal/1565HTS.jpg: 384x640 1 license_plate, 28.4ms\n",
      "image 19/69 /media/eric/D/repos/ANPR-GIA/DatasetTotal/Frontal/1612MHX.jpg: 288x640 1 license_plate, 38.2ms\n",
      "image 20/69 /media/eric/D/repos/ANPR-GIA/DatasetTotal/Frontal/1755JKV.jpeg: 480x640 1 license_plate, 40.2ms\n",
      "image 21/69 /media/eric/D/repos/ANPR-GIA/DatasetTotal/Frontal/1949LLT.jpg: 576x640 1 license_plate, 31.8ms\n",
      "image 22/69 /media/eric/D/repos/ANPR-GIA/DatasetTotal/Frontal/2153GYX.jpg: 384x640 1 license_plate, 18.4ms\n",
      "image 23/69 /media/eric/D/repos/ANPR-GIA/DatasetTotal/Frontal/2841LJX.jpg: 640x480 1 license_plate, 33.3ms\n",
      "image 24/69 /media/eric/D/repos/ANPR-GIA/DatasetTotal/Frontal/2885BKJ.jpg: 640x480 1 license_plate, 16.5ms\n",
      "image 25/69 /media/eric/D/repos/ANPR-GIA/DatasetTotal/Frontal/2929KXJ.jpg: 384x640 1 license_plate, 22.8ms\n",
      "image 26/69 /media/eric/D/repos/ANPR-GIA/DatasetTotal/Frontal/3046KWK.jpeg: 480x640 1 license_plate, 23.4ms\n",
      "image 27/69 /media/eric/D/repos/ANPR-GIA/DatasetTotal/Frontal/3161LNC.jpg: 640x640 1 license_plate, 21.5ms\n",
      "image 28/69 /media/eric/D/repos/ANPR-GIA/DatasetTotal/Frontal/3340JMF.jpg: 384x640 1 license_plate, 28.3ms\n",
      "image 29/69 /media/eric/D/repos/ANPR-GIA/DatasetTotal/Frontal/3451LGB.jpg: 576x640 1 license_plate, 26.6ms\n",
      "image 30/69 /media/eric/D/repos/ANPR-GIA/DatasetTotal/Frontal/3497BYY.jpg: 576x640 2 license_plates, 16.0ms\n",
      "image 31/69 /media/eric/D/repos/ANPR-GIA/DatasetTotal/Frontal/3587DCX.jpg: 384x640 1 license_plate, 28.8ms\n",
      "image 32/69 /media/eric/D/repos/ANPR-GIA/DatasetTotal/Frontal/3929GVS.jpg: 480x640 1 license_plate, 23.4ms\n",
      "image 33/69 /media/eric/D/repos/ANPR-GIA/DatasetTotal/Frontal/4125DVF.jpg: 640x480 1 license_plate, 33.3ms\n",
      "image 34/69 /media/eric/D/repos/ANPR-GIA/DatasetTotal/Frontal/4181GWT.jpg: 288x640 1 license_plate, 26.2ms\n",
      "image 35/69 /media/eric/D/repos/ANPR-GIA/DatasetTotal/Frontal/4182KMG.jpg: 640x480 1 license_plate, 28.8ms\n",
      "image 36/69 /media/eric/D/repos/ANPR-GIA/DatasetTotal/Frontal/4674FHC.jpg: 384x640 1 license_plate, 31.8ms\n",
      "image 37/69 /media/eric/D/repos/ANPR-GIA/DatasetTotal/Frontal/5133MBD.jpg: 288x640 1 license_plate, 29.1ms\n",
      "image 38/69 /media/eric/D/repos/ANPR-GIA/DatasetTotal/Frontal/5172LTZ.jpg: 640x480 1 license_plate, 33.1ms\n",
      "image 39/69 /media/eric/D/repos/ANPR-GIA/DatasetTotal/Frontal/5179LBS.jpg: 352x640 1 license_plate, 114.3ms\n",
      "image 40/69 /media/eric/D/repos/ANPR-GIA/DatasetTotal/Frontal/5240BFM.jpg: 512x640 2 license_plates, 106.6ms\n",
      "image 41/69 /media/eric/D/repos/ANPR-GIA/DatasetTotal/Frontal/5275HGY.jpg: 384x640 1 license_plate, 25.6ms\n",
      "image 42/69 /media/eric/D/repos/ANPR-GIA/DatasetTotal/Frontal/5488LKV.jpg: 384x640 1 license_plate, 18.8ms\n",
      "image 43/69 /media/eric/D/repos/ANPR-GIA/DatasetTotal/Frontal/5796DKP.jpg: 384x640 1 license_plate, 31.7ms\n",
      "image 44/69 /media/eric/D/repos/ANPR-GIA/DatasetTotal/Frontal/6072HBJ.jpg: 640x640 1 license_plate, 30.8ms\n",
      "image 45/69 /media/eric/D/repos/ANPR-GIA/DatasetTotal/Frontal/6445HNP.jpg: 640x480 1 license_plate, 27.8ms\n",
      "image 46/69 /media/eric/D/repos/ANPR-GIA/DatasetTotal/Frontal/6688KSW.jpg: 640x480 1 license_plate, 31.3ms\n",
      "image 47/69 /media/eric/D/repos/ANPR-GIA/DatasetTotal/Frontal/6704KNN.jpg: 640x320 1 license_plate, 96.5ms\n",
      "image 48/69 /media/eric/D/repos/ANPR-GIA/DatasetTotal/Frontal/6775BNF.jpg: 288x640 1 license_plate, 26.0ms\n",
      "image 49/69 /media/eric/D/repos/ANPR-GIA/DatasetTotal/Frontal/7016MLZ.jpg: 288x640 2 license_plates, 24.5ms\n",
      "image 50/69 /media/eric/D/repos/ANPR-GIA/DatasetTotal/Frontal/7067KSH.jpg: 384x640 1 license_plate, 26.1ms\n",
      "image 51/69 /media/eric/D/repos/ANPR-GIA/DatasetTotal/Frontal/7153JWD.jpg: 384x640 1 license_plate, 22.0ms\n",
      "image 52/69 /media/eric/D/repos/ANPR-GIA/DatasetTotal/Frontal/7254LJJ.jpg: 640x480 1 license_plate, 24.7ms\n",
      "image 53/69 /media/eric/D/repos/ANPR-GIA/DatasetTotal/Frontal/7318GSB.jpg: 480x640 1 license_plate, 29.1ms\n",
      "image 54/69 /media/eric/D/repos/ANPR-GIA/DatasetTotal/Frontal/7746KBG.jpg: 544x640 1 license_plate, 28.5ms\n",
      "image 55/69 /media/eric/D/repos/ANPR-GIA/DatasetTotal/Frontal/7963KNH.jpg: 480x640 1 license_plate, 21.0ms\n",
      "image 56/69 /media/eric/D/repos/ANPR-GIA/DatasetTotal/Frontal/8120GLL.jpg: 288x640 1 license_plate, 23.9ms\n",
      "image 57/69 /media/eric/D/repos/ANPR-GIA/DatasetTotal/Frontal/8555JKG.jpg: 640x480 1 license_plate, 19.0ms\n",
      "image 58/69 /media/eric/D/repos/ANPR-GIA/DatasetTotal/Frontal/8691KPN.jpg: 512x640 1 license_plate, 31.4ms\n",
      "image 59/69 /media/eric/D/repos/ANPR-GIA/DatasetTotal/Frontal/8727JTC.jpg: 384x640 1 license_plate, 24.5ms\n",
      "image 60/69 /media/eric/D/repos/ANPR-GIA/DatasetTotal/Frontal/9247CZG.jpg: 384x640 1 license_plate, 31.9ms\n",
      "image 61/69 /media/eric/D/repos/ANPR-GIA/DatasetTotal/Frontal/9455JKM-o.jpg: 640x480 1 license_plate, 17.4ms\n",
      "image 62/69 /media/eric/D/repos/ANPR-GIA/DatasetTotal/Frontal/9498LCN.jpg: 640x480 1 license_plate, 28.7ms\n",
      "image 63/69 /media/eric/D/repos/ANPR-GIA/DatasetTotal/Frontal/9532GVC-n.jpg: 640x480 1 license_plate, 28.3ms\n",
      "image 64/69 /media/eric/D/repos/ANPR-GIA/DatasetTotal/Frontal/9542KDC.jpg: 608x640 1 license_plate, 74.9ms\n",
      "image 65/69 /media/eric/D/repos/ANPR-GIA/DatasetTotal/Frontal/9572HXT.jpg: 640x480 1 license_plate, 28.3ms\n",
      "image 66/69 /media/eric/D/repos/ANPR-GIA/DatasetTotal/Frontal/9603LFP.jpg: 288x640 1 license_plate, 27.4ms\n",
      "image 67/69 /media/eric/D/repos/ANPR-GIA/DatasetTotal/Frontal/9603MPD.jpg: 288x640 1 license_plate, 22.8ms\n",
      "image 68/69 /media/eric/D/repos/ANPR-GIA/DatasetTotal/Frontal/9869KST.jpg: 576x640 1 license_plate, 37.0ms\n",
      "image 69/69 /media/eric/D/repos/ANPR-GIA/DatasetTotal/Frontal/9892JFR.jpg: 384x640 1 license_plate, 26.6ms\n",
      "Speed: 5.6ms preprocess, 40.2ms inference, 6.5ms postprocess per image at shape (1, 3, 384, 640)\n"
     ]
    }
   ],
   "source": [
    "detections = pipeline.detect(\"DatasetTotal/Frontal\", 640, 0.25, -1)\n",
    "crops = pipeline.extract_boxes(detections)"
   ]
  },
  {
   "cell_type": "code",
   "execution_count": 3,
   "metadata": {},
   "outputs": [],
   "source": [
    "pytesseract.pytesseract.tesseract_cmd = r'/usr/bin/tesseract'\n",
    "easyocr_reader = easyocr.Reader(['en'])\n",
    "paddleocr_reader = PaddleOCR(use_angle_cls=True, lang='en')"
   ]
  },
  {
   "cell_type": "code",
   "execution_count": 8,
   "metadata": {},
   "outputs": [
    {
     "name": "stderr",
     "output_type": "stream",
     "text": [
      "  0%|          | 0/69 [00:00<?, ?it/s]"
     ]
    },
    {
     "name": "stdout",
     "output_type": "stream",
     "text": [
      "[[('0129 KMK', 0.9188997745513916)]]\n"
     ]
    },
    {
     "name": "stderr",
     "output_type": "stream",
     "text": [
      "\n"
     ]
    }
   ],
   "source": [
    "import time\n",
    "\n",
    "gt = [\n",
    "\tplate[\"path\"].split(\"/\")[-1].split(\".\")[0]\n",
    "\tfor img in crops\n",
    "\tfor plate in img\n",
    "]\n",
    "pred_tesseract = []\n",
    "pred_easyocr = []\n",
    "pred_paddleocr = []\n",
    "time_tesseract = []\n",
    "time_easyocr = []\n",
    "time_paddleocr = []\n",
    "\n",
    "for img in tqdm(crops):\n",
    "\tfor plate in img:\n",
    "\t\tpath, plate = plate.values()\n",
    "\t\tstart_time = time.time()\n",
    "\t\tres_tesseract = pytesseract.image_to_data(\n",
    "\t\t\tplate,\n",
    "\t\t\tconfig='--psm 10 --oem 3 -c tessedit_char_whitelist=0123456789ABCDEFGHIJKLMNOPQRSTUVWXYZ',\n",
    "\t\t\toutput_type=pytesseract.Output.DICT\n",
    "\t\t)\n",
    "\t\tres_tesseract = res_tesseract[\"text\"][-1].replace(\" \", \"\")\n",
    "\t\ttime_tesseract.append(time.time() - start_time)\n",
    "\t\tstart_time = time.time()\n",
    "\t\tres_easyocr = easyocr_reader.readtext(\n",
    "\t\t\tnp.array(plate),\n",
    "\t\t\tallowlist=\"0123456789ABCDEFGHIJKLMNOPQRSTUVWXYZ\",\n",
    "\t\t)\n",
    "\t\tres_easyocr = \"\".join([recog[-2] for recog in res_easyocr]).replace(\" \", \"\")\n",
    "\t\ttime_easyocr.append(time.time() - start_time)\n",
    "\t\tstart_time\n",
    "\t\tres_paddleocr = paddleocr_reader.ocr(np.array(plate), det=False, rec=True, cls=False)\n",
    "\t\tprint(res_paddleocr)\n",
    "\t\tres_paddleocr = res_paddleocr[0][0][0].replace(\" \", \"\")\n",
    "\t\ttime_paddleocr.append(time.time() - start_time)\n",
    "\t\tpred_tesseract.append(res_tesseract)\n",
    "\t\tpred_easyocr.append(res_easyocr)\n",
    "\t\tpred_paddleocr.append(res_paddleocr)\n",
    "\t\tbreak\n",
    "\tbreak"
   ]
  },
  {
   "cell_type": "code",
   "execution_count": 34,
   "metadata": {},
   "outputs": [
    {
     "name": "stdout",
     "output_type": "stream",
     "text": [
      "Tesseract accuracy: 0.2222222222222222 Time: 0.4380912846989102\n",
      "EasyOCR accuracy: 0.3194444444444444 Time: 0.15616274873415628\n",
      "PaddleOCR accuracy: 0.7916666666666666 Time: 0.5329718987147013\n",
      "Tesseract similarity: 71.2367724867725\n",
      "EasyOCR similarity: 78.90312440408297\n",
      "PaddleOCR similarity: 90.39627425044092\n"
     ]
    }
   ],
   "source": [
    "def accuracy(gt, pred):\n",
    "\treturn sum([1 for i in range(len(gt)) if gt[i] == pred[i]]) / len(gt)\n",
    "\n",
    "from Levenshtein import distance\n",
    "\n",
    "def compute_similarity_percentage(predictions, gt):\n",
    "    similarities = []\n",
    "    for pred, true in zip(predictions, gt):\n",
    "        d = distance(pred, true)\n",
    "        max_len = max(len(pred), len(true))\n",
    "        if max_len > 0:\n",
    "            similarity = (1 - d / max_len) * 100  # Convert to percentage\n",
    "        else:\n",
    "            similarity = 100.0  # Both strings are empty\n",
    "        similarities.append(similarity)\n",
    "    \n",
    "    average_similarity = sum(similarities) / len(similarities) if similarities else 0\n",
    "    return similarities, average_similarity\n",
    "\n",
    "print(\"Tesseract accuracy:\", accuracy(gt, pred_tesseract), \"Time:\", np.mean(time_tesseract))\n",
    "print(\"EasyOCR accuracy:\", accuracy(gt, pred_easyocr), \"Time:\", np.mean(time_easyocr))\n",
    "print(\"PaddleOCR accuracy:\", accuracy(gt, pred_paddleocr), \"Time:\", np.mean(time_paddleocr))\n",
    "print(\"Tesseract similarity:\", compute_similarity_percentage(pred_tesseract, gt)[1])\n",
    "print(\"EasyOCR similarity:\", compute_similarity_percentage(pred_easyocr, gt)[1])\n",
    "print(\"PaddleOCR similarity:\", compute_similarity_percentage(pred_paddleocr, gt)[1])"
   ]
  }
 ],
 "metadata": {
  "kernelspec": {
   "display_name": "yolo",
   "language": "python",
   "name": "python3"
  },
  "language_info": {
   "codemirror_mode": {
    "name": "ipython",
    "version": 3
   },
   "file_extension": ".py",
   "mimetype": "text/x-python",
   "name": "python",
   "nbconvert_exporter": "python",
   "pygments_lexer": "ipython3",
   "version": "3.10.15"
  }
 },
 "nbformat": 4,
 "nbformat_minor": 2
}
